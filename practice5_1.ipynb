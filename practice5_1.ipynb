{
 "cells": [
  {
   "cell_type": "code",
   "execution_count": 71,
   "metadata": {},
   "outputs": [],
   "source": [
    "%matplotlib inline\n",
    "\n",
    "import pandas as pd\n",
    "import numpy as np\n",
    "import matplotlib.pyplot as plt\n",
    "import seaborn as sns"
   ]
  },
  {
   "cell_type": "code",
   "execution_count": 72,
   "metadata": {},
   "outputs": [
    {
     "name": "stdout",
     "output_type": "stream",
     "text": [
      "<class 'pandas.core.frame.DataFrame'>\n",
      "RangeIndex: 4951 entries, 0 to 4950\n",
      "Data columns (total 7 columns):\n",
      " #   Column         Non-Null Count  Dtype  \n",
      "---  ------         --------------  -----  \n",
      " 0   create_date    4951 non-null   object \n",
      " 1   price          4951 non-null   float64\n",
      " 2   text           4951 non-null   object \n",
      " 3   phone_model    4951 non-null   object \n",
      " 4   factory_price  4951 non-null   int64  \n",
      " 5   maker          4951 non-null   object \n",
      " 6   price_index    4951 non-null   float64\n",
      "dtypes: float64(2), int64(1), object(4)\n",
      "memory usage: 270.9+ KB\n",
      "None\n"
     ]
    },
    {
     "data": {
      "text/html": [
       "<div>\n",
       "<style scoped>\n",
       "    .dataframe tbody tr th:only-of-type {\n",
       "        vertical-align: middle;\n",
       "    }\n",
       "\n",
       "    .dataframe tbody tr th {\n",
       "        vertical-align: top;\n",
       "    }\n",
       "\n",
       "    .dataframe thead th {\n",
       "        text-align: right;\n",
       "    }\n",
       "</style>\n",
       "<table border=\"1\" class=\"dataframe\">\n",
       "  <thead>\n",
       "    <tr style=\"text-align: right;\">\n",
       "      <th></th>\n",
       "      <th>create_date</th>\n",
       "      <th>price</th>\n",
       "      <th>text</th>\n",
       "      <th>phone_model</th>\n",
       "      <th>factory_price</th>\n",
       "      <th>maker</th>\n",
       "      <th>price_index</th>\n",
       "    </tr>\n",
       "  </thead>\n",
       "  <tbody>\n",
       "    <tr>\n",
       "      <th>0</th>\n",
       "      <td>2017-03-19  4 35 00 PM</td>\n",
       "      <td>550000.0</td>\n",
       "      <td>아이폰6플러스 블랙+애플라이트 64기가 팝니다  아이폰6플러스 블랙+애플라이트 64...</td>\n",
       "      <td>iphone 6 64gb</td>\n",
       "      <td>924000</td>\n",
       "      <td>apple</td>\n",
       "      <td>95.96</td>\n",
       "    </tr>\n",
       "    <tr>\n",
       "      <th>1</th>\n",
       "      <td>2016-10-26  12 08 00 PM</td>\n",
       "      <td>380000.0</td>\n",
       "      <td>갤럭시s6엣지 32기가 팝니다 직거래  갤럭시s6엣지 32기가 품명 갤럭시s6엣지제...</td>\n",
       "      <td>galaxy s6 edge 32gb</td>\n",
       "      <td>979000</td>\n",
       "      <td>samsung</td>\n",
       "      <td>103.05</td>\n",
       "    </tr>\n",
       "    <tr>\n",
       "      <th>2</th>\n",
       "      <td>2016-10-25  12 52 00 PM</td>\n",
       "      <td>300000.0</td>\n",
       "      <td>갤럭시s6 풀박스로 팝니다~~~ 새상품급  실기스조차 없어요  직접거래 구매한지 1...</td>\n",
       "      <td>galaxy s6 32gb</td>\n",
       "      <td>854000</td>\n",
       "      <td>samsung</td>\n",
       "      <td>103.05</td>\n",
       "    </tr>\n",
       "    <tr>\n",
       "      <th>3</th>\n",
       "      <td>2017-03-23  11 14 00 PM</td>\n",
       "      <td>290000.0</td>\n",
       "      <td>sk  g5 티탄 폰 단품판매합니다  직접거래 sk g5 티탄 폰 단품판매합니다 올...</td>\n",
       "      <td>lg g5 32gb</td>\n",
       "      <td>836000</td>\n",
       "      <td>lg</td>\n",
       "      <td>95.96</td>\n",
       "    </tr>\n",
       "    <tr>\n",
       "      <th>4</th>\n",
       "      <td>2016-04-11  7 35 00 PM</td>\n",
       "      <td>280000.0</td>\n",
       "      <td>sony 엑스페리아 c5 ultra e5506 16gb  미사용 새제품 팝니다 1...</td>\n",
       "      <td>lg u 32gb</td>\n",
       "      <td>396000</td>\n",
       "      <td>lg</td>\n",
       "      <td>102.59</td>\n",
       "    </tr>\n",
       "  </tbody>\n",
       "</table>\n",
       "</div>"
      ],
      "text/plain": [
       "               create_date     price  \\\n",
       "0   2017-03-19  4 35 00 PM  550000.0   \n",
       "1  2016-10-26  12 08 00 PM  380000.0   \n",
       "2  2016-10-25  12 52 00 PM  300000.0   \n",
       "3  2017-03-23  11 14 00 PM  290000.0   \n",
       "4   2016-04-11  7 35 00 PM  280000.0   \n",
       "\n",
       "                                                text          phone_model  \\\n",
       "0  아이폰6플러스 블랙+애플라이트 64기가 팝니다  아이폰6플러스 블랙+애플라이트 64...        iphone 6 64gb   \n",
       "1  갤럭시s6엣지 32기가 팝니다 직거래  갤럭시s6엣지 32기가 품명 갤럭시s6엣지제...  galaxy s6 edge 32gb   \n",
       "2  갤럭시s6 풀박스로 팝니다~~~ 새상품급  실기스조차 없어요  직접거래 구매한지 1...       galaxy s6 32gb   \n",
       "3  sk  g5 티탄 폰 단품판매합니다  직접거래 sk g5 티탄 폰 단품판매합니다 올...           lg g5 32gb   \n",
       "4   sony 엑스페리아 c5 ultra e5506 16gb  미사용 새제품 팝니다 1...            lg u 32gb   \n",
       "\n",
       "   factory_price    maker  price_index  \n",
       "0         924000    apple        95.96  \n",
       "1         979000  samsung       103.05  \n",
       "2         854000  samsung       103.05  \n",
       "3         836000       lg        95.96  \n",
       "4         396000       lg       102.59  "
      ]
     },
     "execution_count": 72,
     "metadata": {},
     "output_type": "execute_result"
    }
   ],
   "source": [
    "df = pd.read_csv('../data/used_mobile_phone.csv')\n",
    "print(df.info())\n",
    "df.head()"
   ]
  },
  {
   "cell_type": "code",
   "execution_count": 73,
   "metadata": {},
   "outputs": [
    {
     "data": {
      "text/plain": [
       "2016-10    2956\n",
       "2017-03    1311\n",
       "2016-08     107\n",
       "2016-09     105\n",
       "2016-04     102\n",
       "2016-05      89\n",
       "2016-06      76\n",
       "2016-07      74\n",
       "2016-03      70\n",
       "2016-02      61\n",
       "Name: month, dtype: int64"
      ]
     },
     "execution_count": 73,
     "metadata": {},
     "output_type": "execute_result"
    }
   ],
   "source": [
    "df['month'] = df['create_date'].apply(lambda x: x[:7])\n",
    "df['month'].value_counts()"
   ]
  },
  {
   "cell_type": "code",
   "execution_count": 74,
   "metadata": {},
   "outputs": [
    {
     "data": {
      "text/plain": [
       "<AxesSubplot:>"
      ]
     },
     "execution_count": 74,
     "metadata": {},
     "output_type": "execute_result"
    },
    {
     "data": {
      "image/png": "[encoded data removed]",
      "text/plain": [
       "<Figure size 432x288 with 1 Axes>"
      ]
     },
     "metadata": {
      "needs_background": "light"
     },
     "output_type": "display_data"
    }
   ],
   "source": [
    "#일별 거래량 계산\n",
    "df_day = df['create_date'].apply(lambda x:x[:10])\n",
    "df_day.value_counts().sort_index(ascending=True).plot()"
   ]
  },
  {
   "cell_type": "code",
   "execution_count": 75,
   "metadata": {},
   "outputs": [
    {
     "data": {
      "text/plain": [
       "<AxesSubplot:>"
      ]
     },
     "execution_count": 75,
     "metadata": {},
     "output_type": "execute_result"
    },
    {
     "data": {
      "image/png": "[encoded data removed]",
      "text/plain": [
       "<Figure size 432x288 with 1 Axes>"
      ]
     },
     "metadata": {
      "needs_background": "light"
     },
     "output_type": "display_data"
    }
   ],
   "source": [
    "#가격 분포\n",
    "df['price'].hist(bins='auto')"
   ]
  },
  {
   "cell_type": "code",
   "execution_count": 76,
   "metadata": {},
   "outputs": [
    {
     "data": {
      "text/html": [
       "<div>\n",
       "<style scoped>\n",
       "    .dataframe tbody tr th:only-of-type {\n",
       "        vertical-align: middle;\n",
       "    }\n",
       "\n",
       "    .dataframe tbody tr th {\n",
       "        vertical-align: top;\n",
       "    }\n",
       "\n",
       "    .dataframe thead th {\n",
       "        text-align: right;\n",
       "    }\n",
       "</style>\n",
       "<table border=\"1\" class=\"dataframe\">\n",
       "  <thead>\n",
       "    <tr style=\"text-align: right;\">\n",
       "      <th></th>\n",
       "      <th>create_date</th>\n",
       "      <th>price</th>\n",
       "      <th>text</th>\n",
       "      <th>phone_model</th>\n",
       "      <th>factory_price</th>\n",
       "      <th>maker</th>\n",
       "      <th>price_index</th>\n",
       "      <th>month</th>\n",
       "    </tr>\n",
       "  </thead>\n",
       "  <tbody>\n",
       "    <tr>\n",
       "      <th>0</th>\n",
       "      <td>2017-03-19  4 35 00 PM</td>\n",
       "      <td>550000.0</td>\n",
       "      <td>아이폰6플러스 블랙+애플라이트 64기가 팝니다  아이폰6플러스 블랙+애플라이트 64...</td>\n",
       "      <td>iphone 6 64gb</td>\n",
       "      <td>924000</td>\n",
       "      <td>apple</td>\n",
       "      <td>95.96</td>\n",
       "      <td>2017-03</td>\n",
       "    </tr>\n",
       "    <tr>\n",
       "      <th>1</th>\n",
       "      <td>2016-10-26  12 08 00 PM</td>\n",
       "      <td>380000.0</td>\n",
       "      <td>갤럭시s6엣지 32기가 팝니다 직거래  갤럭시s6엣지 32기가 품명 갤럭시s6엣지제...</td>\n",
       "      <td>galaxy s6 edge 32gb</td>\n",
       "      <td>979000</td>\n",
       "      <td>samsung</td>\n",
       "      <td>103.05</td>\n",
       "      <td>2016-10</td>\n",
       "    </tr>\n",
       "    <tr>\n",
       "      <th>2</th>\n",
       "      <td>2016-10-25  12 52 00 PM</td>\n",
       "      <td>300000.0</td>\n",
       "      <td>갤럭시s6 풀박스로 팝니다~~~ 새상품급  실기스조차 없어요  직접거래 구매한지 1...</td>\n",
       "      <td>galaxy s6 32gb</td>\n",
       "      <td>854000</td>\n",
       "      <td>samsung</td>\n",
       "      <td>103.05</td>\n",
       "      <td>2016-10</td>\n",
       "    </tr>\n",
       "    <tr>\n",
       "      <th>3</th>\n",
       "      <td>2017-03-23  11 14 00 PM</td>\n",
       "      <td>290000.0</td>\n",
       "      <td>sk  g5 티탄 폰 단품판매합니다  직접거래 sk g5 티탄 폰 단품판매합니다 올...</td>\n",
       "      <td>lg g5 32gb</td>\n",
       "      <td>836000</td>\n",
       "      <td>lg</td>\n",
       "      <td>95.96</td>\n",
       "      <td>2017-03</td>\n",
       "    </tr>\n",
       "    <tr>\n",
       "      <th>4</th>\n",
       "      <td>2016-04-11  7 35 00 PM</td>\n",
       "      <td>280000.0</td>\n",
       "      <td>sony 엑스페리아 c5 ultra e5506 16gb  미사용 새제품 팝니다 1...</td>\n",
       "      <td>lg u 32gb</td>\n",
       "      <td>396000</td>\n",
       "      <td>lg</td>\n",
       "      <td>102.59</td>\n",
       "      <td>2016-04</td>\n",
       "    </tr>\n",
       "  </tbody>\n",
       "</table>\n",
       "</div>"
      ],
      "text/plain": [
       "               create_date     price  \\\n",
       "0   2017-03-19  4 35 00 PM  550000.0   \n",
       "1  2016-10-26  12 08 00 PM  380000.0   \n",
       "2  2016-10-25  12 52 00 PM  300000.0   \n",
       "3  2017-03-23  11 14 00 PM  290000.0   \n",
       "4   2016-04-11  7 35 00 PM  280000.0   \n",
       "\n",
       "                                                text          phone_model  \\\n",
       "0  아이폰6플러스 블랙+애플라이트 64기가 팝니다  아이폰6플러스 블랙+애플라이트 64...        iphone 6 64gb   \n",
       "1  갤럭시s6엣지 32기가 팝니다 직거래  갤럭시s6엣지 32기가 품명 갤럭시s6엣지제...  galaxy s6 edge 32gb   \n",
       "2  갤럭시s6 풀박스로 팝니다~~~ 새상품급  실기스조차 없어요  직접거래 구매한지 1...       galaxy s6 32gb   \n",
       "3  sk  g5 티탄 폰 단품판매합니다  직접거래 sk g5 티탄 폰 단품판매합니다 올...           lg g5 32gb   \n",
       "4   sony 엑스페리아 c5 ultra e5506 16gb  미사용 새제품 팝니다 1...            lg u 32gb   \n",
       "\n",
       "   factory_price    maker  price_index    month  \n",
       "0         924000    apple        95.96  2017-03  \n",
       "1         979000  samsung       103.05  2016-10  \n",
       "2         854000  samsung       103.05  2016-10  \n",
       "3         836000       lg        95.96  2017-03  \n",
       "4         396000       lg       102.59  2016-04  "
      ]
     },
     "execution_count": 76,
     "metadata": {},
     "output_type": "execute_result"
    }
   ],
   "source": [
    "df.head()"
   ]
  },
  {
   "cell_type": "code",
   "execution_count": 77,
   "metadata": {},
   "outputs": [
    {
     "data": {
      "text/plain": [
       "<AxesSubplot:>"
      ]
     },
     "execution_count": 77,
     "metadata": {},
     "output_type": "execute_result"
    },
    {
     "data": {
      "image/png": "[encoded data removed]",
      "text/plain": [
       "<Figure size 432x288 with 1 Axes>"
      ]
     },
     "metadata": {
      "needs_background": "light"
     },
     "output_type": "display_data"
    }
   ],
   "source": [
    "df_price_mean = df.groupby('phone_model')['price'].transform(lambda x:np.mean(x))\n",
    "df_price_std = df.groupby('phone_model')['price'].transform(lambda x:np.std(x))\n",
    "\n",
    "#z-score을 이용하여 기종별 평균에 비해 얼마나 높고 낮은지 분석 z-score = (score-mean) / std\n",
    "\n",
    "df_z_score = (df['price'] - df_price_mean) / df_price_std\n",
    "df_z_score.hist(bins='auto')"
   ]
  },
  {
   "cell_type": "code",
   "execution_count": 78,
   "metadata": {},
   "outputs": [
    {
     "data": {
      "text/plain": [
       "price            1.000000\n",
       "factory_price    0.339306\n",
       "price_index      0.025516\n",
       "Name: price, dtype: float64"
      ]
     },
     "execution_count": 78,
     "metadata": {},
     "output_type": "execute_result"
    }
   ],
   "source": [
    "#피어슨 상관계수로 price와 factory_price의 상관관계 찾기\n",
    "corr = df.corr(method='pearson')\n",
    "corr['price']"
   ]
  },
  {
   "cell_type": "code",
   "execution_count": 79,
   "metadata": {},
   "outputs": [
    {
     "data": {
      "text/plain": [
       "64"
      ]
     },
     "execution_count": 79,
     "metadata": {},
     "output_type": "execute_result"
    }
   ],
   "source": [
    "#핸드폰 종류 개수\n",
    "len(df['phone_model'].unique())"
   ]
  },
  {
   "cell_type": "code",
   "execution_count": 80,
   "metadata": {},
   "outputs": [
    {
     "data": {
      "text/html": [
       "<div>\n",
       "<style scoped>\n",
       "    .dataframe tbody tr th:only-of-type {\n",
       "        vertical-align: middle;\n",
       "    }\n",
       "\n",
       "    .dataframe tbody tr th {\n",
       "        vertical-align: top;\n",
       "    }\n",
       "\n",
       "    .dataframe thead th {\n",
       "        text-align: right;\n",
       "    }\n",
       "</style>\n",
       "<table border=\"1\" class=\"dataframe\">\n",
       "  <thead>\n",
       "    <tr style=\"text-align: right;\">\n",
       "      <th></th>\n",
       "      <th>price</th>\n",
       "      <th>factory_price</th>\n",
       "      <th>price_index</th>\n",
       "      <th>phone_model_g pro2 32gb</th>\n",
       "      <th>phone_model_g3 cat.6 32gb</th>\n",
       "      <th>phone_model_g4 32gb</th>\n",
       "      <th>phone_model_galaxy a7 2016 16gb</th>\n",
       "      <th>phone_model_galaxy a8 2016 32gb</th>\n",
       "      <th>phone_model_galaxy alpha 32gb</th>\n",
       "      <th>phone_model_galaxy folder 8gb</th>\n",
       "      <th>...</th>\n",
       "      <th>month_2016-10</th>\n",
       "      <th>month_2017-03</th>\n",
       "      <th>maker_apple</th>\n",
       "      <th>maker_huawei</th>\n",
       "      <th>maker_lg</th>\n",
       "      <th>maker_pantech</th>\n",
       "      <th>maker_samsung</th>\n",
       "      <th>maker_sky</th>\n",
       "      <th>maker_sony</th>\n",
       "      <th>maker_tg</th>\n",
       "    </tr>\n",
       "  </thead>\n",
       "  <tbody>\n",
       "    <tr>\n",
       "      <th>0</th>\n",
       "      <td>550000.0</td>\n",
       "      <td>924000</td>\n",
       "      <td>95.96</td>\n",
       "      <td>0</td>\n",
       "      <td>0</td>\n",
       "      <td>0</td>\n",
       "      <td>0</td>\n",
       "      <td>0</td>\n",
       "      <td>0</td>\n",
       "      <td>0</td>\n",
       "      <td>...</td>\n",
       "      <td>0</td>\n",
       "      <td>1</td>\n",
       "      <td>1</td>\n",
       "      <td>0</td>\n",
       "      <td>0</td>\n",
       "      <td>0</td>\n",
       "      <td>0</td>\n",
       "      <td>0</td>\n",
       "      <td>0</td>\n",
       "      <td>0</td>\n",
       "    </tr>\n",
       "    <tr>\n",
       "      <th>1</th>\n",
       "      <td>380000.0</td>\n",
       "      <td>979000</td>\n",
       "      <td>103.05</td>\n",
       "      <td>0</td>\n",
       "      <td>0</td>\n",
       "      <td>0</td>\n",
       "      <td>0</td>\n",
       "      <td>0</td>\n",
       "      <td>0</td>\n",
       "      <td>0</td>\n",
       "      <td>...</td>\n",
       "      <td>1</td>\n",
       "      <td>0</td>\n",
       "      <td>0</td>\n",
       "      <td>0</td>\n",
       "      <td>0</td>\n",
       "      <td>0</td>\n",
       "      <td>1</td>\n",
       "      <td>0</td>\n",
       "      <td>0</td>\n",
       "      <td>0</td>\n",
       "    </tr>\n",
       "    <tr>\n",
       "      <th>2</th>\n",
       "      <td>300000.0</td>\n",
       "      <td>854000</td>\n",
       "      <td>103.05</td>\n",
       "      <td>0</td>\n",
       "      <td>0</td>\n",
       "      <td>0</td>\n",
       "      <td>0</td>\n",
       "      <td>0</td>\n",
       "      <td>0</td>\n",
       "      <td>0</td>\n",
       "      <td>...</td>\n",
       "      <td>1</td>\n",
       "      <td>0</td>\n",
       "      <td>0</td>\n",
       "      <td>0</td>\n",
       "      <td>0</td>\n",
       "      <td>0</td>\n",
       "      <td>1</td>\n",
       "      <td>0</td>\n",
       "      <td>0</td>\n",
       "      <td>0</td>\n",
       "    </tr>\n",
       "    <tr>\n",
       "      <th>3</th>\n",
       "      <td>290000.0</td>\n",
       "      <td>836000</td>\n",
       "      <td>95.96</td>\n",
       "      <td>0</td>\n",
       "      <td>0</td>\n",
       "      <td>0</td>\n",
       "      <td>0</td>\n",
       "      <td>0</td>\n",
       "      <td>0</td>\n",
       "      <td>0</td>\n",
       "      <td>...</td>\n",
       "      <td>0</td>\n",
       "      <td>1</td>\n",
       "      <td>0</td>\n",
       "      <td>0</td>\n",
       "      <td>1</td>\n",
       "      <td>0</td>\n",
       "      <td>0</td>\n",
       "      <td>0</td>\n",
       "      <td>0</td>\n",
       "      <td>0</td>\n",
       "    </tr>\n",
       "    <tr>\n",
       "      <th>4</th>\n",
       "      <td>280000.0</td>\n",
       "      <td>396000</td>\n",
       "      <td>102.59</td>\n",
       "      <td>0</td>\n",
       "      <td>0</td>\n",
       "      <td>0</td>\n",
       "      <td>0</td>\n",
       "      <td>0</td>\n",
       "      <td>0</td>\n",
       "      <td>0</td>\n",
       "      <td>...</td>\n",
       "      <td>0</td>\n",
       "      <td>0</td>\n",
       "      <td>0</td>\n",
       "      <td>0</td>\n",
       "      <td>1</td>\n",
       "      <td>0</td>\n",
       "      <td>0</td>\n",
       "      <td>0</td>\n",
       "      <td>0</td>\n",
       "      <td>0</td>\n",
       "    </tr>\n",
       "  </tbody>\n",
       "</table>\n",
       "<p>5 rows × 85 columns</p>\n",
       "</div>"
      ],
      "text/plain": [
       "      price  factory_price  price_index  phone_model_g pro2 32gb  \\\n",
       "0  550000.0         924000        95.96                        0   \n",
       "1  380000.0         979000       103.05                        0   \n",
       "2  300000.0         854000       103.05                        0   \n",
       "3  290000.0         836000        95.96                        0   \n",
       "4  280000.0         396000       102.59                        0   \n",
       "\n",
       "   phone_model_g3 cat.6 32gb  phone_model_g4 32gb  \\\n",
       "0                          0                    0   \n",
       "1                          0                    0   \n",
       "2                          0                    0   \n",
       "3                          0                    0   \n",
       "4                          0                    0   \n",
       "\n",
       "   phone_model_galaxy a7 2016 16gb  phone_model_galaxy a8 2016 32gb  \\\n",
       "0                                0                                0   \n",
       "1                                0                                0   \n",
       "2                                0                                0   \n",
       "3                                0                                0   \n",
       "4                                0                                0   \n",
       "\n",
       "   phone_model_galaxy alpha 32gb  phone_model_galaxy folder 8gb  ...  \\\n",
       "0                              0                              0  ...   \n",
       "1                              0                              0  ...   \n",
       "2                              0                              0  ...   \n",
       "3                              0                              0  ...   \n",
       "4                              0                              0  ...   \n",
       "\n",
       "   month_2016-10  month_2017-03  maker_apple  maker_huawei  maker_lg  \\\n",
       "0              0              1            1             0         0   \n",
       "1              1              0            0             0         0   \n",
       "2              1              0            0             0         0   \n",
       "3              0              1            0             0         1   \n",
       "4              0              0            0             0         1   \n",
       "\n",
       "   maker_pantech  maker_samsung  maker_sky  maker_sony  maker_tg  \n",
       "0              0              0          0           0         0  \n",
       "1              0              1          0           0         0  \n",
       "2              0              1          0           0         0  \n",
       "3              0              0          0           0         0  \n",
       "4              0              0          0           0         0  \n",
       "\n",
       "[5 rows x 85 columns]"
      ]
     },
     "execution_count": 80,
     "metadata": {},
     "output_type": "execute_result"
    }
   ],
   "source": [
    "df.head()\n",
    "df['month'] = df['create_date'].apply(lambda x:x[:7])\n",
    "df = df[['price', 'phone_model', 'factory_price', 'price_index', 'month', 'maker']]\n",
    "#모델학습 전 one-hot encoding\n",
    "df = pd.get_dummies(df)\n",
    "df.head()"
   ]
  },
  {
   "cell_type": "code",
   "execution_count": 81,
   "metadata": {},
   "outputs": [
    {
     "name": "stderr",
     "output_type": "stream",
     "text": [
      "/Users/hanjihun/opt/anaconda3/lib/python3.9/site-packages/sklearn/ensemble/_forest.py:396: FutureWarning: Criterion 'mse' was deprecated in v1.0 and will be removed in version 1.2. Use `criterion='squared_error'` which is equivalent.\n",
      "  warn(\n"
     ]
    },
    {
     "name": "stdout",
     "output_type": "stream",
     "text": [
      "MSE(Mean squared Error)s train is 10428497356.506 test is 15489055313.717\n",
      "mse r2 train is 0.780 test is 0.662\n"
     ]
    }
   ],
   "source": [
    "#랜덤 포레스트 모델을 이용하여 모델 학습 및 가격 예측\n",
    "from sklearn.model_selection import train_test_split    #test, train 데이터 나누기 위하여\n",
    "from sklearn.ensemble import RandomForestRegressor\n",
    "from sklearn.metrics import r2_score, mean_squared_error\n",
    "\n",
    "##test, train 데이터 분류\n",
    "x = df.loc[:, df.columns != 'price'].values\n",
    "y=  df['price'].values\n",
    "x_train, x_test, y_train, y_test = train_test_split(x, y, test_size=0.2, random_state=0)\n",
    "#모델 학습\n",
    "forest_model = RandomForestRegressor(n_estimators=1000, criterion='mse')\n",
    "forest_model.fit(x_train, y_train)\n",
    "#모델 예측\n",
    "y_train_pred = forest_model.predict(x_train)\n",
    "y_test_pred = forest_model.predict(x_test)\n",
    "#모델 평가는 mse, r2_score\n",
    "print('MSE(Mean squared Error)s train is %.3f test is %.3f' % (\n",
    "    mean_squared_error(y_train, y_train_pred), mean_squared_error(y_test, y_test_pred)))\n",
    "print('mse r2 train is %.3f test is %.3f' % (\n",
    "    r2_score(y_train, y_train_pred), r2_score(y_test, y_test_pred)))"
   ]
  },
  {
   "cell_type": "markdown",
   "metadata": {},
   "source": [
    "> mse = mean squared error으로 추측값이 정확한지 판단하는 지표,\n",
    "\n",
    "> r2_score = result_score으로 1에 가까울수록 좋은 회귀모델"
   ]
  },
  {
   "cell_type": "code",
   "execution_count": 82,
   "metadata": {},
   "outputs": [
    {
     "data": {
      "text/plain": [
       "<BarContainer object of 84 artists>"
      ]
     },
     "execution_count": 82,
     "metadata": {},
     "output_type": "execute_result"
    },
    {
     "data": {
      "image/png": "[encoded data removed]",
      "text/plain": [
       "<Figure size 432x288 with 1 Axes>"
      ]
     },
     "metadata": {
      "needs_background": "light"
     },
     "output_type": "display_data"
    }
   ],
   "source": [
    "#피처의 중요도 분석\n",
    "#one-hot encoding을 완료한 df의 columns은 84개, importance는 이 columns에 대한 중요도\n",
    "importance = forest_model.feature_importances_\n",
    "indices = np.argsort(importance[::-1])  #인덱스를 역순으로 정렬\n",
    "x_label = np.arange(x.shape[1])\n",
    "plt.bar(x_label, importance[indices])"
   ]
  },
  {
   "cell_type": "code",
   "execution_count": 83,
   "metadata": {},
   "outputs": [
    {
     "data": {
      "text/plain": [
       "[('factory_price', 0.4033742409570839),\n",
       " ('maker_apple', 0.2914089637699918),\n",
       " ('phone_model_iphone se 64gb', 0.02480422013010434),\n",
       " ('phone_model_galaxy s3 3g 8gb', 0.02122622125724977),\n",
       " ('price_index', 0.02040314579564056),\n",
       " ('phone_model_galaxy s4 32gb', 0.01928652198848301),\n",
       " ('maker_samsung', 0.016332837076565746),\n",
       " ('month_2017-03', 0.015611477004679287),\n",
       " ('phone_model_iphone 6 128gb', 0.014966884608585857),\n",
       " ('phone_model_galaxy s7 edge 32gb', 0.013005206185262184)]"
      ]
     },
     "execution_count": 83,
     "metadata": {},
     "output_type": "execute_result"
    }
   ],
   "source": [
    "#importance의 top10을 column 이름과 함께 출력\n",
    "columns_label = df.columns.drop('price').tolist()\n",
    "feature = list(zip(columns_label, importance))\n",
    "sorted(feature, key=lambda tup : tup[1], reverse=True)[:10]"
   ]
  },
  {
   "cell_type": "code",
   "execution_count": 84,
   "metadata": {},
   "outputs": [
    {
     "name": "stdout",
     "output_type": "stream",
     "text": [
      "('month_2017-03', 0.015611477004679287)\n",
      "('month_2016-05', 0.009762759211407004)\n",
      "('month_2016-09', 0.008340311050240313)\n",
      "('month_2016-04', 0.006591422694658711)\n",
      "('month_2016-10', 0.00633233935371773)\n",
      "('month_2016-06', 0.0037878143521969544)\n",
      "('month_2016-08', 0.003375284066607577)\n",
      "('month_2016-07', 0.0020604049938046927)\n",
      "('month_2016-03', 0.0019095564160483594)\n",
      "('month_2016-02', 0.000915802787633919)\n"
     ]
    }
   ],
   "source": [
    "#시간 피처중 Importance가 높은 순대로 출력\n",
    "for sorted_feature in sorted(feature, key=lambda tup: tup[1], reverse=True):\n",
    "    if \"month\" in sorted_feature[0]: \n",
    "        print(sorted_feature)"
   ]
  },
  {
   "cell_type": "code",
   "execution_count": 61,
   "metadata": {},
   "outputs": [
    {
     "data": {
      "text/html": [
       "<div>\n",
       "<style scoped>\n",
       "    .dataframe tbody tr th:only-of-type {\n",
       "        vertical-align: middle;\n",
       "    }\n",
       "\n",
       "    .dataframe tbody tr th {\n",
       "        vertical-align: top;\n",
       "    }\n",
       "\n",
       "    .dataframe thead th {\n",
       "        text-align: right;\n",
       "    }\n",
       "</style>\n",
       "<table border=\"1\" class=\"dataframe\">\n",
       "  <thead>\n",
       "    <tr style=\"text-align: right;\">\n",
       "      <th></th>\n",
       "      <th>price</th>\n",
       "      <th>factory_price</th>\n",
       "      <th>price_index</th>\n",
       "      <th>phone_model_g pro2 32gb</th>\n",
       "      <th>phone_model_g3 cat.6 32gb</th>\n",
       "      <th>phone_model_g4 32gb</th>\n",
       "      <th>phone_model_galaxy a7 2016 16gb</th>\n",
       "      <th>phone_model_galaxy a8 2016 32gb</th>\n",
       "      <th>phone_model_galaxy alpha 32gb</th>\n",
       "      <th>phone_model_galaxy folder 8gb</th>\n",
       "      <th>...</th>\n",
       "      <th>month_2016-10</th>\n",
       "      <th>month_2017-03</th>\n",
       "      <th>maker_apple</th>\n",
       "      <th>maker_huawei</th>\n",
       "      <th>maker_lg</th>\n",
       "      <th>maker_pantech</th>\n",
       "      <th>maker_samsung</th>\n",
       "      <th>maker_sky</th>\n",
       "      <th>maker_sony</th>\n",
       "      <th>maker_tg</th>\n",
       "    </tr>\n",
       "  </thead>\n",
       "  <tbody>\n",
       "    <tr>\n",
       "      <th>0</th>\n",
       "      <td>550000.0</td>\n",
       "      <td>924000</td>\n",
       "      <td>95.96</td>\n",
       "      <td>0</td>\n",
       "      <td>0</td>\n",
       "      <td>0</td>\n",
       "      <td>0</td>\n",
       "      <td>0</td>\n",
       "      <td>0</td>\n",
       "      <td>0</td>\n",
       "      <td>...</td>\n",
       "      <td>0</td>\n",
       "      <td>1</td>\n",
       "      <td>1</td>\n",
       "      <td>0</td>\n",
       "      <td>0</td>\n",
       "      <td>0</td>\n",
       "      <td>0</td>\n",
       "      <td>0</td>\n",
       "      <td>0</td>\n",
       "      <td>0</td>\n",
       "    </tr>\n",
       "    <tr>\n",
       "      <th>1</th>\n",
       "      <td>380000.0</td>\n",
       "      <td>979000</td>\n",
       "      <td>103.05</td>\n",
       "      <td>0</td>\n",
       "      <td>0</td>\n",
       "      <td>0</td>\n",
       "      <td>0</td>\n",
       "      <td>0</td>\n",
       "      <td>0</td>\n",
       "      <td>0</td>\n",
       "      <td>...</td>\n",
       "      <td>1</td>\n",
       "      <td>0</td>\n",
       "      <td>0</td>\n",
       "      <td>0</td>\n",
       "      <td>0</td>\n",
       "      <td>0</td>\n",
       "      <td>1</td>\n",
       "      <td>0</td>\n",
       "      <td>0</td>\n",
       "      <td>0</td>\n",
       "    </tr>\n",
       "    <tr>\n",
       "      <th>2</th>\n",
       "      <td>300000.0</td>\n",
       "      <td>854000</td>\n",
       "      <td>103.05</td>\n",
       "      <td>0</td>\n",
       "      <td>0</td>\n",
       "      <td>0</td>\n",
       "      <td>0</td>\n",
       "      <td>0</td>\n",
       "      <td>0</td>\n",
       "      <td>0</td>\n",
       "      <td>...</td>\n",
       "      <td>1</td>\n",
       "      <td>0</td>\n",
       "      <td>0</td>\n",
       "      <td>0</td>\n",
       "      <td>0</td>\n",
       "      <td>0</td>\n",
       "      <td>1</td>\n",
       "      <td>0</td>\n",
       "      <td>0</td>\n",
       "      <td>0</td>\n",
       "    </tr>\n",
       "    <tr>\n",
       "      <th>3</th>\n",
       "      <td>290000.0</td>\n",
       "      <td>836000</td>\n",
       "      <td>95.96</td>\n",
       "      <td>0</td>\n",
       "      <td>0</td>\n",
       "      <td>0</td>\n",
       "      <td>0</td>\n",
       "      <td>0</td>\n",
       "      <td>0</td>\n",
       "      <td>0</td>\n",
       "      <td>...</td>\n",
       "      <td>0</td>\n",
       "      <td>1</td>\n",
       "      <td>0</td>\n",
       "      <td>0</td>\n",
       "      <td>1</td>\n",
       "      <td>0</td>\n",
       "      <td>0</td>\n",
       "      <td>0</td>\n",
       "      <td>0</td>\n",
       "      <td>0</td>\n",
       "    </tr>\n",
       "    <tr>\n",
       "      <th>4</th>\n",
       "      <td>280000.0</td>\n",
       "      <td>396000</td>\n",
       "      <td>102.59</td>\n",
       "      <td>0</td>\n",
       "      <td>0</td>\n",
       "      <td>0</td>\n",
       "      <td>0</td>\n",
       "      <td>0</td>\n",
       "      <td>0</td>\n",
       "      <td>0</td>\n",
       "      <td>...</td>\n",
       "      <td>0</td>\n",
       "      <td>0</td>\n",
       "      <td>0</td>\n",
       "      <td>0</td>\n",
       "      <td>1</td>\n",
       "      <td>0</td>\n",
       "      <td>0</td>\n",
       "      <td>0</td>\n",
       "      <td>0</td>\n",
       "      <td>0</td>\n",
       "    </tr>\n",
       "  </tbody>\n",
       "</table>\n",
       "<p>5 rows × 85 columns</p>\n",
       "</div>"
      ],
      "text/plain": [
       "      price  factory_price  price_index  phone_model_g pro2 32gb  \\\n",
       "0  550000.0         924000        95.96                        0   \n",
       "1  380000.0         979000       103.05                        0   \n",
       "2  300000.0         854000       103.05                        0   \n",
       "3  290000.0         836000        95.96                        0   \n",
       "4  280000.0         396000       102.59                        0   \n",
       "\n",
       "   phone_model_g3 cat.6 32gb  phone_model_g4 32gb  \\\n",
       "0                          0                    0   \n",
       "1                          0                    0   \n",
       "2                          0                    0   \n",
       "3                          0                    0   \n",
       "4                          0                    0   \n",
       "\n",
       "   phone_model_galaxy a7 2016 16gb  phone_model_galaxy a8 2016 32gb  \\\n",
       "0                                0                                0   \n",
       "1                                0                                0   \n",
       "2                                0                                0   \n",
       "3                                0                                0   \n",
       "4                                0                                0   \n",
       "\n",
       "   phone_model_galaxy alpha 32gb  phone_model_galaxy folder 8gb  ...  \\\n",
       "0                              0                              0  ...   \n",
       "1                              0                              0  ...   \n",
       "2                              0                              0  ...   \n",
       "3                              0                              0  ...   \n",
       "4                              0                              0  ...   \n",
       "\n",
       "   month_2016-10  month_2017-03  maker_apple  maker_huawei  maker_lg  \\\n",
       "0              0              1            1             0         0   \n",
       "1              1              0            0             0         0   \n",
       "2              1              0            0             0         0   \n",
       "3              0              1            0             0         1   \n",
       "4              0              0            0             0         1   \n",
       "\n",
       "   maker_pantech  maker_samsung  maker_sky  maker_sony  maker_tg  \n",
       "0              0              0          0           0         0  \n",
       "1              0              1          0           0         0  \n",
       "2              0              1          0           0         0  \n",
       "3              0              0          0           0         0  \n",
       "4              0              0          0           0         0  \n",
       "\n",
       "[5 rows x 85 columns]"
      ]
     },
     "execution_count": 61,
     "metadata": {},
     "output_type": "execute_result"
    }
   ],
   "source": [
    "df.head()"
   ]
  },
  {
   "cell_type": "code",
   "execution_count": 149,
   "metadata": {},
   "outputs": [
    {
     "data": {
      "text/html": [
       "<div>\n",
       "<style scoped>\n",
       "    .dataframe tbody tr th:only-of-type {\n",
       "        vertical-align: middle;\n",
       "    }\n",
       "\n",
       "    .dataframe tbody tr th {\n",
       "        vertical-align: top;\n",
       "    }\n",
       "\n",
       "    .dataframe thead th {\n",
       "        text-align: right;\n",
       "    }\n",
       "</style>\n",
       "<table border=\"1\" class=\"dataframe\">\n",
       "  <thead>\n",
       "    <tr style=\"text-align: right;\">\n",
       "      <th></th>\n",
       "      <th>create_date</th>\n",
       "      <th>price</th>\n",
       "      <th>text</th>\n",
       "      <th>phone_model</th>\n",
       "      <th>factory_price</th>\n",
       "      <th>maker</th>\n",
       "      <th>price_index</th>\n",
       "    </tr>\n",
       "  </thead>\n",
       "  <tbody>\n",
       "    <tr>\n",
       "      <th>0</th>\n",
       "      <td>2017-03-19  4 35 00 PM</td>\n",
       "      <td>550000.0</td>\n",
       "      <td>아이폰6플러스 블랙+애플라이트 64기가 팝니다  아이폰6플러스 블랙+애플라이트 64...</td>\n",
       "      <td>iphone 6 64gb</td>\n",
       "      <td>924000</td>\n",
       "      <td>apple</td>\n",
       "      <td>95.96</td>\n",
       "    </tr>\n",
       "    <tr>\n",
       "      <th>1</th>\n",
       "      <td>2016-10-26  12 08 00 PM</td>\n",
       "      <td>380000.0</td>\n",
       "      <td>갤럭시s6엣지 32기가 팝니다 직거래  갤럭시s6엣지 32기가 품명 갤럭시s6엣지제...</td>\n",
       "      <td>galaxy s6 edge 32gb</td>\n",
       "      <td>979000</td>\n",
       "      <td>samsung</td>\n",
       "      <td>103.05</td>\n",
       "    </tr>\n",
       "    <tr>\n",
       "      <th>2</th>\n",
       "      <td>2016-10-25  12 52 00 PM</td>\n",
       "      <td>300000.0</td>\n",
       "      <td>갤럭시s6 풀박스로 팝니다~~~ 새상품급  실기스조차 없어요  직접거래 구매한지 1...</td>\n",
       "      <td>galaxy s6 32gb</td>\n",
       "      <td>854000</td>\n",
       "      <td>samsung</td>\n",
       "      <td>103.05</td>\n",
       "    </tr>\n",
       "    <tr>\n",
       "      <th>3</th>\n",
       "      <td>2017-03-23  11 14 00 PM</td>\n",
       "      <td>290000.0</td>\n",
       "      <td>sk  g5 티탄 폰 단품판매합니다  직접거래 sk g5 티탄 폰 단품판매합니다 올...</td>\n",
       "      <td>lg g5 32gb</td>\n",
       "      <td>836000</td>\n",
       "      <td>lg</td>\n",
       "      <td>95.96</td>\n",
       "    </tr>\n",
       "    <tr>\n",
       "      <th>4</th>\n",
       "      <td>2016-04-11  7 35 00 PM</td>\n",
       "      <td>280000.0</td>\n",
       "      <td>sony 엑스페리아 c5 ultra e5506 16gb  미사용 새제품 팝니다 1...</td>\n",
       "      <td>lg u 32gb</td>\n",
       "      <td>396000</td>\n",
       "      <td>lg</td>\n",
       "      <td>102.59</td>\n",
       "    </tr>\n",
       "  </tbody>\n",
       "</table>\n",
       "</div>"
      ],
      "text/plain": [
       "               create_date     price  \\\n",
       "0   2017-03-19  4 35 00 PM  550000.0   \n",
       "1  2016-10-26  12 08 00 PM  380000.0   \n",
       "2  2016-10-25  12 52 00 PM  300000.0   \n",
       "3  2017-03-23  11 14 00 PM  290000.0   \n",
       "4   2016-04-11  7 35 00 PM  280000.0   \n",
       "\n",
       "                                                text          phone_model  \\\n",
       "0  아이폰6플러스 블랙+애플라이트 64기가 팝니다  아이폰6플러스 블랙+애플라이트 64...        iphone 6 64gb   \n",
       "1  갤럭시s6엣지 32기가 팝니다 직거래  갤럭시s6엣지 32기가 품명 갤럭시s6엣지제...  galaxy s6 edge 32gb   \n",
       "2  갤럭시s6 풀박스로 팝니다~~~ 새상품급  실기스조차 없어요  직접거래 구매한지 1...       galaxy s6 32gb   \n",
       "3  sk  g5 티탄 폰 단품판매합니다  직접거래 sk g5 티탄 폰 단품판매합니다 올...           lg g5 32gb   \n",
       "4   sony 엑스페리아 c5 ultra e5506 16gb  미사용 새제품 팝니다 1...            lg u 32gb   \n",
       "\n",
       "   factory_price    maker  price_index  \n",
       "0         924000    apple        95.96  \n",
       "1         979000  samsung       103.05  \n",
       "2         854000  samsung       103.05  \n",
       "3         836000       lg        95.96  \n",
       "4         396000       lg       102.59  "
      ]
     },
     "execution_count": 149,
     "metadata": {},
     "output_type": "execute_result"
    }
   ],
   "source": [
    "df = pd.read_csv('../data/used_mobile_phone.csv')\n",
    "df.head()"
   ]
  },
  {
   "cell_type": "markdown",
   "metadata": {},
   "source": [
    "#### 피처 엔지니어링"
   ]
  },
  {
   "cell_type": "code",
   "execution_count": 150,
   "metadata": {},
   "outputs": [],
   "source": [
    "#create_time 피처를 분석하기위해 unixtime으로 변환\n",
    "from datetime import datetime\n",
    "import time\n",
    "\n",
    "#str타입을 unixtime 타입으로 바꾸어주는 함수\n",
    "def date_to_unixtime(date_str):\n",
    "    return time.mktime(datetime.strptime(date_str, '%Y-%m-%d').timetuple())\n",
    "    #timetuple -> struct_time으로 변환 후 unixtime으로 바꾸어주는 함수 mktime을 적용"
   ]
  },
  {
   "cell_type": "code",
   "execution_count": 151,
   "metadata": {},
   "outputs": [
    {
     "data": {
      "text/html": [
       "<div>\n",
       "<style scoped>\n",
       "    .dataframe tbody tr th:only-of-type {\n",
       "        vertical-align: middle;\n",
       "    }\n",
       "\n",
       "    .dataframe tbody tr th {\n",
       "        vertical-align: top;\n",
       "    }\n",
       "\n",
       "    .dataframe thead th {\n",
       "        text-align: right;\n",
       "    }\n",
       "</style>\n",
       "<table border=\"1\" class=\"dataframe\">\n",
       "  <thead>\n",
       "    <tr style=\"text-align: right;\">\n",
       "      <th></th>\n",
       "      <th>create_date</th>\n",
       "      <th>create_unixtime</th>\n",
       "      <th>create_time_score</th>\n",
       "    </tr>\n",
       "  </thead>\n",
       "  <tbody>\n",
       "    <tr>\n",
       "      <th>0</th>\n",
       "      <td>2017-03-19  4 35 00 PM</td>\n",
       "      <td>1.489849e+09</td>\n",
       "      <td>0.985612</td>\n",
       "    </tr>\n",
       "    <tr>\n",
       "      <th>1</th>\n",
       "      <td>2016-10-26  12 08 00 PM</td>\n",
       "      <td>1.477408e+09</td>\n",
       "      <td>0.640288</td>\n",
       "    </tr>\n",
       "    <tr>\n",
       "      <th>2</th>\n",
       "      <td>2016-10-25  12 52 00 PM</td>\n",
       "      <td>1.477321e+09</td>\n",
       "      <td>0.637890</td>\n",
       "    </tr>\n",
       "    <tr>\n",
       "      <th>3</th>\n",
       "      <td>2017-03-23  11 14 00 PM</td>\n",
       "      <td>1.490195e+09</td>\n",
       "      <td>0.995204</td>\n",
       "    </tr>\n",
       "    <tr>\n",
       "      <th>4</th>\n",
       "      <td>2016-04-11  7 35 00 PM</td>\n",
       "      <td>1.460300e+09</td>\n",
       "      <td>0.165468</td>\n",
       "    </tr>\n",
       "  </tbody>\n",
       "</table>\n",
       "</div>"
      ],
      "text/plain": [
       "               create_date  create_unixtime  create_time_score\n",
       "0   2017-03-19  4 35 00 PM     1.489849e+09           0.985612\n",
       "1  2016-10-26  12 08 00 PM     1.477408e+09           0.640288\n",
       "2  2016-10-25  12 52 00 PM     1.477321e+09           0.637890\n",
       "3  2017-03-23  11 14 00 PM     1.490195e+09           0.995204\n",
       "4   2016-04-11  7 35 00 PM     1.460300e+09           0.165468"
      ]
     },
     "execution_count": 151,
     "metadata": {},
     "output_type": "execute_result"
    }
   ],
   "source": [
    "df['create_unixtime'] = df['create_date'].apply(lambda x: date_to_unixtime(x[:10]))\n",
    "#min-max scaling\n",
    "df['create_time_score'] = (df['create_unixtime'] - df['create_unixtime'].min()) / (df['create_unixtime'].max() - df['create_unixtime'].min())\n",
    "df[['create_date', 'create_unixtime', 'create_time_score']].head()"
   ]
  },
  {
   "cell_type": "markdown",
   "metadata": {},
   "source": [
    "> min-max scaling -> (x-min(x)) / (max(x) - min(x)) : 0~1의 값으로 1에 가까울수록 큰값임(최근에 작성한 게시물을 의미)"
   ]
  },
  {
   "cell_type": "code",
   "execution_count": 152,
   "metadata": {},
   "outputs": [],
   "source": [
    "#phone_model 전처리\n",
    "df['phone_model_storage'] = df['phone_model'].apply(lambda x: x.split(\" \")[-1])\n",
    "df['phone_model_name'] = df['phone_model'].apply(lambda x: ' '.join(x.split(\" \")[:-1]))"
   ]
  },
  {
   "cell_type": "code",
   "execution_count": 153,
   "metadata": {},
   "outputs": [
    {
     "data": {
      "text/plain": [
       "{'whiskers': [<matplotlib.lines.Line2D at 0x7fd2338e9df0>,\n",
       "  <matplotlib.lines.Line2D at 0x7fd2338fa100>,\n",
       "  <matplotlib.lines.Line2D at 0x7fd233904220>,\n",
       "  <matplotlib.lines.Line2D at 0x7fd202679250>],\n",
       " 'caps': [<matplotlib.lines.Line2D at 0x7fd2338fa3d0>,\n",
       "  <matplotlib.lines.Line2D at 0x7fd2338fa6a0>,\n",
       "  <matplotlib.lines.Line2D at 0x7fd202679370>,\n",
       "  <matplotlib.lines.Line2D at 0x7fd233a7b850>],\n",
       " 'boxes': [<matplotlib.lines.Line2D at 0x7fd2338e9b50>,\n",
       "  <matplotlib.lines.Line2D at 0x7fd2338faf10>],\n",
       " 'medians': [<matplotlib.lines.Line2D at 0x7fd2338fa970>,\n",
       "  <matplotlib.lines.Line2D at 0x7fd225fe3be0>],\n",
       " 'fliers': [<matplotlib.lines.Line2D at 0x7fd2338fac40>,\n",
       "  <matplotlib.lines.Line2D at 0x7fd225fe3820>],\n",
       " 'means': []}"
      ]
     },
     "execution_count": 153,
     "metadata": {},
     "output_type": "execute_result"
    },
    {
     "data": {
      "image/png": "[encoded data removed]",
      "text/plain": [
       "<Figure size 432x288 with 1 Axes>"
      ]
     },
     "metadata": {
      "needs_background": "light"
     },
     "output_type": "display_data"
    }
   ],
   "source": [
    "#boxplot으로 피처 엔지니어링 이전과 이후의 분포 차이 시각화\n",
    "model_counts = df['phone_model'].value_counts()\n",
    "model_detail_counts = df['phone_model_name'].value_counts()\n",
    "data = [model_counts, model_detail_counts]\n",
    "ax = plt.figure().add_subplot(111)\n",
    "ax.boxplot(data)"
   ]
  },
  {
   "cell_type": "markdown",
   "metadata": {},
   "source": [
    "> 분포가 안정적으로 변했다.\n",
    "\n",
    "> 기종별 가격의 분포(정규분포)로 물건의 상태를 판단한다. 상위 5%면 상태가 좋음, 하위 5%면 상태가 나쁨 그 외에는 보통"
   ]
  },
  {
   "cell_type": "code",
   "execution_count": 154,
   "metadata": {},
   "outputs": [
    {
     "name": "stdout",
     "output_type": "stream",
     "text": [
      "upper zscore is -1.397 \n",
      "lower zscore is 1.667 \n"
     ]
    },
    {
     "data": {
      "image/png": "[encoded data removed]",
      "text/plain": [
       "<Figure size 432x288 with 1 Axes>"
      ]
     },
     "metadata": {
      "needs_background": "light"
     },
     "output_type": "display_data"
    }
   ],
   "source": [
    "#z-score으로 정규분포 구하기\n",
    "df['zscore'] = df.groupby('phone_model_name')['price'].transform(lambda x:(x-x.mean())/x.std())\n",
    "df['zscore'].hist(bins='auto')\n",
    "\n",
    "#상위, 하위 5% 구하기\n",
    "upper_zscore = df['zscore'].quantile(0.05)\n",
    "lower_zscore = df['zscore'].quantile(0.95)\n",
    "\n",
    "print('upper zscore is %.3f ' % upper_zscore)\n",
    "print('lower zscore is %.3f ' % lower_zscore)"
   ]
  },
  {
   "cell_type": "code",
   "execution_count": 155,
   "metadata": {},
   "outputs": [
    {
     "data": {
      "text/html": [
       "<div>\n",
       "<style scoped>\n",
       "    .dataframe tbody tr th:only-of-type {\n",
       "        vertical-align: middle;\n",
       "    }\n",
       "\n",
       "    .dataframe tbody tr th {\n",
       "        vertical-align: top;\n",
       "    }\n",
       "\n",
       "    .dataframe thead th {\n",
       "        text-align: right;\n",
       "    }\n",
       "</style>\n",
       "<table border=\"1\" class=\"dataframe\">\n",
       "  <thead>\n",
       "    <tr style=\"text-align: right;\">\n",
       "      <th></th>\n",
       "      <th>create_date</th>\n",
       "      <th>price</th>\n",
       "      <th>text</th>\n",
       "      <th>phone_model</th>\n",
       "      <th>factory_price</th>\n",
       "      <th>maker</th>\n",
       "      <th>price_index</th>\n",
       "      <th>create_unixtime</th>\n",
       "      <th>create_time_score</th>\n",
       "      <th>phone_model_storage</th>\n",
       "      <th>phone_model_name</th>\n",
       "      <th>zscore</th>\n",
       "      <th>price_level</th>\n",
       "    </tr>\n",
       "  </thead>\n",
       "  <tbody>\n",
       "    <tr>\n",
       "      <th>0</th>\n",
       "      <td>2017-03-19  4 35 00 PM</td>\n",
       "      <td>550000.0</td>\n",
       "      <td>아이폰6플러스 블랙+애플라이트 64기가 팝니다  아이폰6플러스 블랙+애플라이트 64...</td>\n",
       "      <td>iphone 6 64gb</td>\n",
       "      <td>924000</td>\n",
       "      <td>apple</td>\n",
       "      <td>95.96</td>\n",
       "      <td>1.489849e+09</td>\n",
       "      <td>0.985612</td>\n",
       "      <td>64gb</td>\n",
       "      <td>iphone 6</td>\n",
       "      <td>0.910563</td>\n",
       "      <td>1</td>\n",
       "    </tr>\n",
       "    <tr>\n",
       "      <th>1</th>\n",
       "      <td>2016-10-26  12 08 00 PM</td>\n",
       "      <td>380000.0</td>\n",
       "      <td>갤럭시s6엣지 32기가 팝니다 직거래  갤럭시s6엣지 32기가 품명 갤럭시s6엣지제...</td>\n",
       "      <td>galaxy s6 edge 32gb</td>\n",
       "      <td>979000</td>\n",
       "      <td>samsung</td>\n",
       "      <td>103.05</td>\n",
       "      <td>1.477408e+09</td>\n",
       "      <td>0.640288</td>\n",
       "      <td>32gb</td>\n",
       "      <td>galaxy s6 edge</td>\n",
       "      <td>1.003699</td>\n",
       "      <td>1</td>\n",
       "    </tr>\n",
       "    <tr>\n",
       "      <th>2</th>\n",
       "      <td>2016-10-25  12 52 00 PM</td>\n",
       "      <td>300000.0</td>\n",
       "      <td>갤럭시s6 풀박스로 팝니다~~~ 새상품급  실기스조차 없어요  직접거래 구매한지 1...</td>\n",
       "      <td>galaxy s6 32gb</td>\n",
       "      <td>854000</td>\n",
       "      <td>samsung</td>\n",
       "      <td>103.05</td>\n",
       "      <td>1.477321e+09</td>\n",
       "      <td>0.637890</td>\n",
       "      <td>32gb</td>\n",
       "      <td>galaxy s6</td>\n",
       "      <td>0.669017</td>\n",
       "      <td>1</td>\n",
       "    </tr>\n",
       "    <tr>\n",
       "      <th>3</th>\n",
       "      <td>2017-03-23  11 14 00 PM</td>\n",
       "      <td>290000.0</td>\n",
       "      <td>sk  g5 티탄 폰 단품판매합니다  직접거래 sk g5 티탄 폰 단품판매합니다 올...</td>\n",
       "      <td>lg g5 32gb</td>\n",
       "      <td>836000</td>\n",
       "      <td>lg</td>\n",
       "      <td>95.96</td>\n",
       "      <td>1.490195e+09</td>\n",
       "      <td>0.995204</td>\n",
       "      <td>32gb</td>\n",
       "      <td>lg g5</td>\n",
       "      <td>-0.330426</td>\n",
       "      <td>1</td>\n",
       "    </tr>\n",
       "    <tr>\n",
       "      <th>4</th>\n",
       "      <td>2016-04-11  7 35 00 PM</td>\n",
       "      <td>280000.0</td>\n",
       "      <td>sony 엑스페리아 c5 ultra e5506 16gb  미사용 새제품 팝니다 1...</td>\n",
       "      <td>lg u 32gb</td>\n",
       "      <td>396000</td>\n",
       "      <td>lg</td>\n",
       "      <td>102.59</td>\n",
       "      <td>1.460300e+09</td>\n",
       "      <td>0.165468</td>\n",
       "      <td>32gb</td>\n",
       "      <td>lg u</td>\n",
       "      <td>1.014392</td>\n",
       "      <td>1</td>\n",
       "    </tr>\n",
       "  </tbody>\n",
       "</table>\n",
       "</div>"
      ],
      "text/plain": [
       "               create_date     price  \\\n",
       "0   2017-03-19  4 35 00 PM  550000.0   \n",
       "1  2016-10-26  12 08 00 PM  380000.0   \n",
       "2  2016-10-25  12 52 00 PM  300000.0   \n",
       "3  2017-03-23  11 14 00 PM  290000.0   \n",
       "4   2016-04-11  7 35 00 PM  280000.0   \n",
       "\n",
       "                                                text          phone_model  \\\n",
       "0  아이폰6플러스 블랙+애플라이트 64기가 팝니다  아이폰6플러스 블랙+애플라이트 64...        iphone 6 64gb   \n",
       "1  갤럭시s6엣지 32기가 팝니다 직거래  갤럭시s6엣지 32기가 품명 갤럭시s6엣지제...  galaxy s6 edge 32gb   \n",
       "2  갤럭시s6 풀박스로 팝니다~~~ 새상품급  실기스조차 없어요  직접거래 구매한지 1...       galaxy s6 32gb   \n",
       "3  sk  g5 티탄 폰 단품판매합니다  직접거래 sk g5 티탄 폰 단품판매합니다 올...           lg g5 32gb   \n",
       "4   sony 엑스페리아 c5 ultra e5506 16gb  미사용 새제품 팝니다 1...            lg u 32gb   \n",
       "\n",
       "   factory_price    maker  price_index  create_unixtime  create_time_score  \\\n",
       "0         924000    apple        95.96     1.489849e+09           0.985612   \n",
       "1         979000  samsung       103.05     1.477408e+09           0.640288   \n",
       "2         854000  samsung       103.05     1.477321e+09           0.637890   \n",
       "3         836000       lg        95.96     1.490195e+09           0.995204   \n",
       "4         396000       lg       102.59     1.460300e+09           0.165468   \n",
       "\n",
       "  phone_model_storage phone_model_name    zscore  price_level  \n",
       "0                64gb         iphone 6  0.910563            1  \n",
       "1                32gb   galaxy s6 edge  1.003699            1  \n",
       "2                32gb        galaxy s6  0.669017            1  \n",
       "3                32gb            lg g5 -0.330426            1  \n",
       "4                32gb             lg u  1.014392            1  "
      ]
     },
     "execution_count": 155,
     "metadata": {},
     "output_type": "execute_result"
    }
   ],
   "source": [
    "#위의 zscore으로 price_level 나누기 상위 5%는 2, 하위 5%는 0, 그 사이는 1\n",
    "\n",
    "def get_price_level(price, lower, upper):\n",
    "    if price < upper:\n",
    "        return 2\n",
    "    elif price > lower:\n",
    "        return 0\n",
    "    else:\n",
    "        return 1\n",
    "\n",
    "df['price_level'] = df['zscore'].transform(lambda x:get_price_level(x, lower_zscore, upper_zscore))\n",
    "df.head()"
   ]
  },
  {
   "cell_type": "code",
   "execution_count": 156,
   "metadata": {},
   "outputs": [
    {
     "data": {
      "text/plain": [
       "['거래', '입니', '판매', '아이폰', '갤럭시']"
      ]
     },
     "execution_count": 156,
     "metadata": {},
     "output_type": "execute_result"
    }
   ],
   "source": [
    "#텍스트 전처리\n",
    "import pickle\n",
    "\n",
    "#불용어 read\n",
    "with open('../data/used_mobile_phone_stopwords.pkl', 'rb') as f:\n",
    "    stopwords = pickle.load(f)   #rb = read binary, wb = write binary\n",
    "\n",
    "stopwords[:5]"
   ]
  },
  {
   "cell_type": "markdown",
   "metadata": {},
   "source": [
    "> pickle : 텍스트 데이터를 파이썬 객체로, binary형식으로 저장하는 것"
   ]
  },
  {
   "cell_type": "code",
   "execution_count": 157,
   "metadata": {},
   "outputs": [
    {
     "data": {
      "text/plain": [
       "0       아이폰6플러스 블랙+애플라이트 64기가 팝니다  아이폰6플러스 블랙+애플라이트 64...\n",
       "1       갤럭시s6엣지 32기가 팝니다 직거래  갤럭시s6엣지 32기가 품명 갤럭시s6엣지제...\n",
       "2       갤럭시s6 풀박스로 팝니다~~~ 새상품급  실기스조차 없어요  직접거래 구매한지 1...\n",
       "3       sk  g5 티탄 폰 단품판매합니다  직접거래 sk g5 티탄 폰 단품판매합니다 올...\n",
       "4        sony 엑스페리아 c5 ultra e5506 16gb  미사용 새제품 팝니다 1...\n",
       "                              ...                        \n",
       "4946    미개봉 언락폰 아이폰7플러스 256gb 골드 iphone7 plus 강북 도봉\\t ...\n",
       "4947    미국판 아이폰7 256g 제트블랙 강남역삼 2대 미개봉언락 애플 a1660 강남역삼...\n",
       "4948    아이폰7 미개봉 홍콩판 팝니다 케이스,강화유리서비스 종류다양 아이폰7  917,91...\n",
       "4949    미개봉 언락폰 아이폰7플러스 256gb 골드 iphone7 plus 강북 도봉 미개...\n",
       "4950     팝니다  아이폰 7 128gb 제트블랙 북미판  카메라 무음, 국내리퍼 가능  1...\n",
       "Name: text, Length: 4951, dtype: object"
      ]
     },
     "execution_count": 157,
     "metadata": {},
     "output_type": "execute_result"
    }
   ],
   "source": [
    "df['text']"
   ]
  },
  {
   "cell_type": "code",
   "execution_count": 158,
   "metadata": {},
   "outputs": [],
   "source": [
    "# 1. 특수문자 제거(+하고 , 제외) 2. 숫자 제거   \n",
    "def text_cleaning(text):\n",
    "    return ''.join(i for i in text if i.isalpha() or i == '+' or i == ',')\n",
    "\n",
    "#stopword에 없는 형태소만 추출하는 함수\n",
    "from konlpy.tag import Okt\n",
    "\n",
    "def get_pos(x):\n",
    "    tagger = Okt()\n",
    "    poses = tagger.pos(x)\n",
    "    return [pos[0] for pos in poses if pos[0] not in stopwords]"
   ]
  },
  {
   "cell_type": "code",
   "execution_count": 96,
   "metadata": {},
   "outputs": [],
   "source": [
    "df['text'] = df['text'].apply(lambda x: text_cleaning(x))\n",
    "result = get_pos(df['text'][0])"
   ]
  },
  {
   "cell_type": "code",
   "execution_count": 28,
   "metadata": {},
   "outputs": [
    {
     "data": {
      "text/plain": [
       "['+', '애플', '라이트', '팝니다', '+', '애플', '라이트', '팝니다', '+', '애플']"
      ]
     },
     "execution_count": 28,
     "metadata": {},
     "output_type": "execute_result"
    }
   ],
   "source": [
    "result[:10]"
   ]
  },
  {
   "cell_type": "code",
   "execution_count": 97,
   "metadata": {},
   "outputs": [
    {
     "ename": "KeyboardInterrupt",
     "evalue": "",
     "output_type": "error",
     "traceback": [
      "\u001b[0;31m---------------------------------------------------------------------------\u001b[0m",
      "\u001b[0;31mKeyboardInterrupt\u001b[0m                         Traceback (most recent call last)",
      "Input \u001b[0;32mIn [97]\u001b[0m, in \u001b[0;36m<cell line: 4>\u001b[0;34m()\u001b[0m\n\u001b[1;32m      1\u001b[0m \u001b[38;5;28;01mfrom\u001b[39;00m \u001b[38;5;21;01mcollections\u001b[39;00m \u001b[38;5;28;01mimport\u001b[39;00m Counter\n\u001b[1;32m      3\u001b[0m \u001b[38;5;66;03m# get_pos 함수를 모든 텍스트 데이터에 적용하여 형태소 말뭉치를 추출합니다.\u001b[39;00m\n\u001b[0;32m----> 4\u001b[0m corpus \u001b[38;5;241m=\u001b[39m \u001b[38;5;28msum\u001b[39m(\u001b[43mdf\u001b[49m\u001b[43m[\u001b[49m\u001b[38;5;124;43m'\u001b[39;49m\u001b[38;5;124;43mtext\u001b[39;49m\u001b[38;5;124;43m'\u001b[39;49m\u001b[43m]\u001b[49m\u001b[38;5;241;43m.\u001b[39;49m\u001b[43mapply\u001b[49m\u001b[43m(\u001b[49m\u001b[38;5;28;43;01mlambda\u001b[39;49;00m\u001b[43m \u001b[49m\u001b[43mx\u001b[49m\u001b[43m:\u001b[49m\u001b[43m \u001b[49m\u001b[43mget_pos\u001b[49m\u001b[43m(\u001b[49m\u001b[43mx\u001b[49m\u001b[43m)\u001b[49m\u001b[43m)\u001b[49m\u001b[38;5;241m.\u001b[39mtolist(), [])\n\u001b[1;32m      6\u001b[0m \u001b[38;5;66;03m# 추출된 형태소 말뭉치에서 가장 많이 등장한 형태소 2500개를 추출합니다.\u001b[39;00m\n\u001b[1;32m      7\u001b[0m counter \u001b[38;5;241m=\u001b[39m Counter(corpus)\n",
      "File \u001b[0;32m~/opt/anaconda3/lib/python3.9/site-packages/pandas/core/series.py:4433\u001b[0m, in \u001b[0;36mSeries.apply\u001b[0;34m(self, func, convert_dtype, args, **kwargs)\u001b[0m\n\u001b[1;32m   4323\u001b[0m \u001b[38;5;28;01mdef\u001b[39;00m \u001b[38;5;21mapply\u001b[39m(\n\u001b[1;32m   4324\u001b[0m     \u001b[38;5;28mself\u001b[39m,\n\u001b[1;32m   4325\u001b[0m     func: AggFuncType,\n\u001b[0;32m   (...)\u001b[0m\n\u001b[1;32m   4328\u001b[0m     \u001b[38;5;241m*\u001b[39m\u001b[38;5;241m*\u001b[39mkwargs,\n\u001b[1;32m   4329\u001b[0m ) \u001b[38;5;241m-\u001b[39m\u001b[38;5;241m>\u001b[39m DataFrame \u001b[38;5;241m|\u001b[39m Series:\n\u001b[1;32m   4330\u001b[0m     \u001b[38;5;124;03m\"\"\"\u001b[39;00m\n\u001b[1;32m   4331\u001b[0m \u001b[38;5;124;03m    Invoke function on values of Series.\u001b[39;00m\n\u001b[1;32m   4332\u001b[0m \n\u001b[0;32m   (...)\u001b[0m\n\u001b[1;32m   4431\u001b[0m \u001b[38;5;124;03m    dtype: float64\u001b[39;00m\n\u001b[1;32m   4432\u001b[0m \u001b[38;5;124;03m    \"\"\"\u001b[39;00m\n\u001b[0;32m-> 4433\u001b[0m     \u001b[38;5;28;01mreturn\u001b[39;00m \u001b[43mSeriesApply\u001b[49m\u001b[43m(\u001b[49m\u001b[38;5;28;43mself\u001b[39;49m\u001b[43m,\u001b[49m\u001b[43m \u001b[49m\u001b[43mfunc\u001b[49m\u001b[43m,\u001b[49m\u001b[43m \u001b[49m\u001b[43mconvert_dtype\u001b[49m\u001b[43m,\u001b[49m\u001b[43m \u001b[49m\u001b[43margs\u001b[49m\u001b[43m,\u001b[49m\u001b[43m \u001b[49m\u001b[43mkwargs\u001b[49m\u001b[43m)\u001b[49m\u001b[38;5;241;43m.\u001b[39;49m\u001b[43mapply\u001b[49m\u001b[43m(\u001b[49m\u001b[43m)\u001b[49m\n",
      "File \u001b[0;32m~/opt/anaconda3/lib/python3.9/site-packages/pandas/core/apply.py:1082\u001b[0m, in \u001b[0;36mSeriesApply.apply\u001b[0;34m(self)\u001b[0m\n\u001b[1;32m   1078\u001b[0m \u001b[38;5;28;01mif\u001b[39;00m \u001b[38;5;28misinstance\u001b[39m(\u001b[38;5;28mself\u001b[39m\u001b[38;5;241m.\u001b[39mf, \u001b[38;5;28mstr\u001b[39m):\n\u001b[1;32m   1079\u001b[0m     \u001b[38;5;66;03m# if we are a string, try to dispatch\u001b[39;00m\n\u001b[1;32m   1080\u001b[0m     \u001b[38;5;28;01mreturn\u001b[39;00m \u001b[38;5;28mself\u001b[39m\u001b[38;5;241m.\u001b[39mapply_str()\n\u001b[0;32m-> 1082\u001b[0m \u001b[38;5;28;01mreturn\u001b[39;00m \u001b[38;5;28;43mself\u001b[39;49m\u001b[38;5;241;43m.\u001b[39;49m\u001b[43mapply_standard\u001b[49m\u001b[43m(\u001b[49m\u001b[43m)\u001b[49m\n",
      "File \u001b[0;32m~/opt/anaconda3/lib/python3.9/site-packages/pandas/core/apply.py:1137\u001b[0m, in \u001b[0;36mSeriesApply.apply_standard\u001b[0;34m(self)\u001b[0m\n\u001b[1;32m   1131\u001b[0m         values \u001b[38;5;241m=\u001b[39m obj\u001b[38;5;241m.\u001b[39mastype(\u001b[38;5;28mobject\u001b[39m)\u001b[38;5;241m.\u001b[39m_values\n\u001b[1;32m   1132\u001b[0m         \u001b[38;5;66;03m# error: Argument 2 to \"map_infer\" has incompatible type\u001b[39;00m\n\u001b[1;32m   1133\u001b[0m         \u001b[38;5;66;03m# \"Union[Callable[..., Any], str, List[Union[Callable[..., Any], str]],\u001b[39;00m\n\u001b[1;32m   1134\u001b[0m         \u001b[38;5;66;03m# Dict[Hashable, Union[Union[Callable[..., Any], str],\u001b[39;00m\n\u001b[1;32m   1135\u001b[0m         \u001b[38;5;66;03m# List[Union[Callable[..., Any], str]]]]]\"; expected\u001b[39;00m\n\u001b[1;32m   1136\u001b[0m         \u001b[38;5;66;03m# \"Callable[[Any], Any]\"\u001b[39;00m\n\u001b[0;32m-> 1137\u001b[0m         mapped \u001b[38;5;241m=\u001b[39m \u001b[43mlib\u001b[49m\u001b[38;5;241;43m.\u001b[39;49m\u001b[43mmap_infer\u001b[49m\u001b[43m(\u001b[49m\n\u001b[1;32m   1138\u001b[0m \u001b[43m            \u001b[49m\u001b[43mvalues\u001b[49m\u001b[43m,\u001b[49m\n\u001b[1;32m   1139\u001b[0m \u001b[43m            \u001b[49m\u001b[43mf\u001b[49m\u001b[43m,\u001b[49m\u001b[43m  \u001b[49m\u001b[38;5;66;43;03m# type: ignore[arg-type]\u001b[39;49;00m\n\u001b[1;32m   1140\u001b[0m \u001b[43m            \u001b[49m\u001b[43mconvert\u001b[49m\u001b[38;5;241;43m=\u001b[39;49m\u001b[38;5;28;43mself\u001b[39;49m\u001b[38;5;241;43m.\u001b[39;49m\u001b[43mconvert_dtype\u001b[49m\u001b[43m,\u001b[49m\n\u001b[1;32m   1141\u001b[0m \u001b[43m        \u001b[49m\u001b[43m)\u001b[49m\n\u001b[1;32m   1143\u001b[0m \u001b[38;5;28;01mif\u001b[39;00m \u001b[38;5;28mlen\u001b[39m(mapped) \u001b[38;5;129;01mand\u001b[39;00m \u001b[38;5;28misinstance\u001b[39m(mapped[\u001b[38;5;241m0\u001b[39m], ABCSeries):\n\u001b[1;32m   1144\u001b[0m     \u001b[38;5;66;03m# GH#43986 Need to do list(mapped) in order to get treated as nested\u001b[39;00m\n\u001b[1;32m   1145\u001b[0m     \u001b[38;5;66;03m#  See also GH#25959 regarding EA support\u001b[39;00m\n\u001b[1;32m   1146\u001b[0m     \u001b[38;5;28;01mreturn\u001b[39;00m obj\u001b[38;5;241m.\u001b[39m_constructor_expanddim(\u001b[38;5;28mlist\u001b[39m(mapped), index\u001b[38;5;241m=\u001b[39mobj\u001b[38;5;241m.\u001b[39mindex)\n",
      "File \u001b[0;32m~/opt/anaconda3/lib/python3.9/site-packages/pandas/_libs/lib.pyx:2870\u001b[0m, in \u001b[0;36mpandas._libs.lib.map_infer\u001b[0;34m()\u001b[0m\n",
      "Input \u001b[0;32mIn [97]\u001b[0m, in \u001b[0;36m<lambda>\u001b[0;34m(x)\u001b[0m\n\u001b[1;32m      1\u001b[0m \u001b[38;5;28;01mfrom\u001b[39;00m \u001b[38;5;21;01mcollections\u001b[39;00m \u001b[38;5;28;01mimport\u001b[39;00m Counter\n\u001b[1;32m      3\u001b[0m \u001b[38;5;66;03m# get_pos 함수를 모든 텍스트 데이터에 적용하여 형태소 말뭉치를 추출합니다.\u001b[39;00m\n\u001b[0;32m----> 4\u001b[0m corpus \u001b[38;5;241m=\u001b[39m \u001b[38;5;28msum\u001b[39m(df[\u001b[38;5;124m'\u001b[39m\u001b[38;5;124mtext\u001b[39m\u001b[38;5;124m'\u001b[39m]\u001b[38;5;241m.\u001b[39mapply(\u001b[38;5;28;01mlambda\u001b[39;00m x: \u001b[43mget_pos\u001b[49m\u001b[43m(\u001b[49m\u001b[43mx\u001b[49m\u001b[43m)\u001b[49m)\u001b[38;5;241m.\u001b[39mtolist(), [])\n\u001b[1;32m      6\u001b[0m \u001b[38;5;66;03m# 추출된 형태소 말뭉치에서 가장 많이 등장한 형태소 2500개를 추출합니다.\u001b[39;00m\n\u001b[1;32m      7\u001b[0m counter \u001b[38;5;241m=\u001b[39m Counter(corpus)\n",
      "Input \u001b[0;32mIn [95]\u001b[0m, in \u001b[0;36mget_pos\u001b[0;34m(x)\u001b[0m\n\u001b[1;32m      8\u001b[0m \u001b[38;5;28;01mdef\u001b[39;00m \u001b[38;5;21mget_pos\u001b[39m(x):\n\u001b[1;32m      9\u001b[0m     tagger \u001b[38;5;241m=\u001b[39m Okt()\n\u001b[0;32m---> 10\u001b[0m     poses \u001b[38;5;241m=\u001b[39m \u001b[43mtagger\u001b[49m\u001b[38;5;241;43m.\u001b[39;49m\u001b[43mpos\u001b[49m\u001b[43m(\u001b[49m\u001b[43mx\u001b[49m\u001b[43m)\u001b[49m\n\u001b[1;32m     11\u001b[0m     \u001b[38;5;28;01mreturn\u001b[39;00m [pos[\u001b[38;5;241m0\u001b[39m] \u001b[38;5;28;01mfor\u001b[39;00m pos \u001b[38;5;129;01min\u001b[39;00m poses \u001b[38;5;28;01mif\u001b[39;00m pos[\u001b[38;5;241m0\u001b[39m] \u001b[38;5;129;01mnot\u001b[39;00m \u001b[38;5;129;01min\u001b[39;00m stopwords]\n",
      "File \u001b[0;32m~/opt/anaconda3/lib/python3.9/site-packages/konlpy/tag/_okt.py:71\u001b[0m, in \u001b[0;36mOkt.pos\u001b[0;34m(self, phrase, norm, stem, join)\u001b[0m\n\u001b[1;32m     59\u001b[0m \u001b[38;5;124;03m\"\"\"POS tagger.\u001b[39;00m\n\u001b[1;32m     60\u001b[0m \u001b[38;5;124;03mIn contrast to other classes in this subpackage,\u001b[39;00m\n\u001b[1;32m     61\u001b[0m \u001b[38;5;124;03mthis POS tagger doesn't have a `flatten` option,\u001b[39;00m\n\u001b[0;32m   (...)\u001b[0m\n\u001b[1;32m     67\u001b[0m \u001b[38;5;124;03m:param join: If True, returns joined sets of morph and tag.\u001b[39;00m\n\u001b[1;32m     68\u001b[0m \u001b[38;5;124;03m\"\"\"\u001b[39;00m\n\u001b[1;32m     69\u001b[0m validate_phrase_inputs(phrase)\n\u001b[0;32m---> 71\u001b[0m tokens \u001b[38;5;241m=\u001b[39m \u001b[38;5;28;43mself\u001b[39;49m\u001b[38;5;241;43m.\u001b[39;49m\u001b[43mjki\u001b[49m\u001b[38;5;241;43m.\u001b[39;49m\u001b[43mtokenize\u001b[49m\u001b[43m(\u001b[49m\n\u001b[1;32m     72\u001b[0m \u001b[43m            \u001b[49m\u001b[43mphrase\u001b[49m\u001b[43m,\u001b[49m\n\u001b[1;32m     73\u001b[0m \u001b[43m            \u001b[49m\u001b[43mjpype\u001b[49m\u001b[38;5;241;43m.\u001b[39;49m\u001b[43mjava\u001b[49m\u001b[38;5;241;43m.\u001b[39;49m\u001b[43mlang\u001b[49m\u001b[38;5;241;43m.\u001b[39;49m\u001b[43mBoolean\u001b[49m\u001b[43m(\u001b[49m\u001b[43mnorm\u001b[49m\u001b[43m)\u001b[49m\u001b[43m,\u001b[49m\n\u001b[1;32m     74\u001b[0m \u001b[43m            \u001b[49m\u001b[43mjpype\u001b[49m\u001b[38;5;241;43m.\u001b[39;49m\u001b[43mjava\u001b[49m\u001b[38;5;241;43m.\u001b[39;49m\u001b[43mlang\u001b[49m\u001b[38;5;241;43m.\u001b[39;49m\u001b[43mBoolean\u001b[49m\u001b[43m(\u001b[49m\u001b[43mstem\u001b[49m\u001b[43m)\u001b[49m\u001b[43m)\u001b[49m\u001b[38;5;241m.\u001b[39mtoArray()\n\u001b[1;32m     75\u001b[0m \u001b[38;5;28;01mif\u001b[39;00m join:\n\u001b[1;32m     76\u001b[0m     \u001b[38;5;28;01mreturn\u001b[39;00m [t \u001b[38;5;28;01mfor\u001b[39;00m t \u001b[38;5;129;01min\u001b[39;00m tokens]\n",
      "\u001b[0;31mKeyboardInterrupt\u001b[0m: "
     ]
    }
   ],
   "source": [
    "from collections import Counter\n",
    "\n",
    "# get_pos 함수를 모든 텍스트 데이터에 적용하여 형태소 말뭉치를 추출합니다.\n",
    "corpus = sum(df['text'].apply(lambda x: get_pos(x)).tolist(), [])\n",
    "\n",
    "# 추출된 형태소 말뭉치에서 가장 많이 등장한 형태소 2500개를 추출합니다.\n",
    "counter = Counter(corpus)\n",
    "common_words = [key for key, _ in counter.most_common(2500)]\n",
    "common_words"
   ]
  },
  {
   "cell_type": "code",
   "execution_count": null,
   "metadata": {},
   "outputs": [
    {
     "name": "stderr",
     "output_type": "stream",
     "text": [
      "/var/folders/y6/p039ghpx4kl3tg5t_shd2dzm0000gn/T/ipykernel_56512/212910549.py:16: FutureWarning: The frame.append method is deprecated and will be removed from pandas in a future version. Use pandas.concat instead.\n",
      "  df_sample = negative_random.append(neutral_random).append(positive_random)\n",
      "/var/folders/y6/p039ghpx4kl3tg5t_shd2dzm0000gn/T/ipykernel_56512/212910549.py:16: FutureWarning: The frame.append method is deprecated and will be removed from pandas in a future version. Use pandas.concat instead.\n",
      "  df_sample = negative_random.append(neutral_random).append(positive_random)\n"
     ]
    },
    {
     "name": "stdout",
     "output_type": "stream",
     "text": [
      "(400, 2179)\n",
      "(100, 2179)\n"
     ]
    }
   ],
   "source": [
    "from sklearn.feature_extraction.text import CountVectorizer\n",
    "from sklearn.feature_extraction.text import TfidfTransformer\n",
    "\n",
    "# 빈출 형태소를 제외한 모든 형태소를 제거하는 함수를 정의합니다.\n",
    "def get_common_pos(x):\n",
    "    tagger = Okt()\n",
    "    poses = tagger.pos(x)\n",
    "    return [pos[0] for pos in poses if pos[0] in common_words]\n",
    "\n",
    "# 1:3:1 비율로 랜덤 샘플링을 수행합니다.\n",
    "negative_random = df[df['price_level']==0].sample(100, random_state=30)\n",
    "neutral_random = df[df['price_level']==1].sample(300, random_state=30)\n",
    "positive_random = df[df['price_level']==2].sample(100, random_state=30)\n",
    "\n",
    "# 샘플링 완료된 데이터셋을 정의합니다.\n",
    "df_sample = negative_random.append(neutral_random).append(positive_random)\n",
    "\n",
    "# TF-IDF를 수행하여 피처를 변환합니다.\n",
    "index_vectorizer = CountVectorizer(tokenizer = lambda x: get_common_pos(x))\n",
    "X = index_vectorizer.fit_transform(df_sample['text'].tolist())\n",
    "tfidf_vectorizer = TfidfTransformer()\n",
    "X = tfidf_vectorizer.fit_transform(X)\n",
    "\n",
    "# 감성 분류를 위한 학습 데이터셋을 정의합니다.\n",
    "y = df_sample['price_level']\n",
    "x_train, x_test, y_train, y_test = train_test_split(X, y, test_size=0.20, random_state=30)\n",
    "print(x_train.shape)\n",
    "print(x_test.shape)"
   ]
  },
  {
   "cell_type": "markdown",
   "metadata": {},
   "source": [
    "비선형 SVM 모델로 학습 후 평가\n",
    "\n",
    ">선형으로 분류가 되지 않는 데이터를 데이터로 적용할 수 있음"
   ]
  },
  {
   "cell_type": "code",
   "execution_count": 98,
   "metadata": {},
   "outputs": [
    {
     "name": "stdout",
     "output_type": "stream",
     "text": [
      "accuracy score is 0.134 \n",
      "[[0 0 0 ... 0 0 0]\n",
      " [0 3 0 ... 0 0 0]\n",
      " [0 0 1 ... 0 0 0]\n",
      " ...\n",
      " [0 0 0 ... 1 0 0]\n",
      " [0 0 0 ... 0 0 1]\n",
      " [0 0 0 ... 0 0 0]]\n"
     ]
    }
   ],
   "source": [
    "from sklearn.metrics import accuracy_score\n",
    "from sklearn.svm import SVC\n",
    "from sklearn.metrics import confusion_matrix\n",
    "\n",
    "#SVM모델에는 커널 함수를 적용해야 한다. 광범위하게 사용되는 것은 'rbf'\n",
    "#C값은 클수록 마진과 데이터 오분류의 갯수가 커지고, 작을수록 오류가 적어지고 마진값도 적어진다\n",
    "svm = SVC(kernel='rbf', C=10.0, random_state=0,  gamma=0.10)\n",
    "svm.fit(x_train, y_train)\n",
    "y_pred = svm.predict(x_test)\n",
    "#accuracy score\n",
    "print('accuracy score is %.3f ' % accuracy_score(y_test, y_pred))\n",
    "\n",
    "#confusion matrix\n",
    "confmat = confusion_matrix(y_test, y_pred)\n",
    "print(confmat)"
   ]
  },
  {
   "cell_type": "code",
   "execution_count": 40,
   "metadata": {},
   "outputs": [
    {
     "data": {
      "text/plain": [
       "<400x2179 sparse matrix of type '<class 'numpy.float64'>'\n",
       "\twith 16865 stored elements in Compressed Sparse Row format>"
      ]
     },
     "execution_count": 40,
     "metadata": {},
     "output_type": "execute_result"
    }
   ],
   "source": [
    "x_train"
   ]
  },
  {
   "cell_type": "code",
   "execution_count": 100,
   "metadata": {},
   "outputs": [
    {
     "ename": "ValueError",
     "evalue": "X has 2179 features, but SVC is expecting 84 features as input.",
     "output_type": "error",
     "traceback": [
      "\u001b[0;31m---------------------------------------------------------------------------\u001b[0m",
      "\u001b[0;31mValueError\u001b[0m                                Traceback (most recent call last)",
      "Input \u001b[0;32mIn [100]\u001b[0m, in \u001b[0;36m<cell line: 3>\u001b[0;34m()\u001b[0m\n\u001b[1;32m      1\u001b[0m X \u001b[38;5;241m=\u001b[39m index_vectorizer\u001b[38;5;241m.\u001b[39mtransform(df[\u001b[38;5;124m'\u001b[39m\u001b[38;5;124mtext\u001b[39m\u001b[38;5;124m'\u001b[39m]\u001b[38;5;241m.\u001b[39mtolist())\n\u001b[1;32m      2\u001b[0m X \u001b[38;5;241m=\u001b[39m tfidf_vectorizer\u001b[38;5;241m.\u001b[39mtransform(X)\n\u001b[0;32m----> 3\u001b[0m df[\u001b[38;5;124m'\u001b[39m\u001b[38;5;124mproduct_status\u001b[39m\u001b[38;5;124m'\u001b[39m] \u001b[38;5;241m=\u001b[39m pd\u001b[38;5;241m.\u001b[39mSeries(\u001b[43msvm\u001b[49m\u001b[38;5;241;43m.\u001b[39;49m\u001b[43mpredict\u001b[49m\u001b[43m(\u001b[49m\u001b[43mX\u001b[49m\u001b[43m)\u001b[49m)\n\u001b[1;32m      4\u001b[0m df[\u001b[38;5;124m'\u001b[39m\u001b[38;5;124mproduct_status\u001b[39m\u001b[38;5;124m'\u001b[39m]\n",
      "File \u001b[0;32m~/opt/anaconda3/lib/python3.9/site-packages/sklearn/svm/_base.py:791\u001b[0m, in \u001b[0;36mBaseSVC.predict\u001b[0;34m(self, X)\u001b[0m\n\u001b[1;32m    789\u001b[0m     y \u001b[38;5;241m=\u001b[39m np\u001b[38;5;241m.\u001b[39margmax(\u001b[38;5;28mself\u001b[39m\u001b[38;5;241m.\u001b[39mdecision_function(X), axis\u001b[38;5;241m=\u001b[39m\u001b[38;5;241m1\u001b[39m)\n\u001b[1;32m    790\u001b[0m \u001b[38;5;28;01melse\u001b[39;00m:\n\u001b[0;32m--> 791\u001b[0m     y \u001b[38;5;241m=\u001b[39m \u001b[38;5;28;43msuper\u001b[39;49m\u001b[43m(\u001b[49m\u001b[43m)\u001b[49m\u001b[38;5;241;43m.\u001b[39;49m\u001b[43mpredict\u001b[49m\u001b[43m(\u001b[49m\u001b[43mX\u001b[49m\u001b[43m)\u001b[49m\n\u001b[1;32m    792\u001b[0m \u001b[38;5;28;01mreturn\u001b[39;00m \u001b[38;5;28mself\u001b[39m\u001b[38;5;241m.\u001b[39mclasses_\u001b[38;5;241m.\u001b[39mtake(np\u001b[38;5;241m.\u001b[39masarray(y, dtype\u001b[38;5;241m=\u001b[39mnp\u001b[38;5;241m.\u001b[39mintp))\n",
      "File \u001b[0;32m~/opt/anaconda3/lib/python3.9/site-packages/sklearn/svm/_base.py:414\u001b[0m, in \u001b[0;36mBaseLibSVM.predict\u001b[0;34m(self, X)\u001b[0m\n\u001b[1;32m    398\u001b[0m \u001b[38;5;28;01mdef\u001b[39;00m \u001b[38;5;21mpredict\u001b[39m(\u001b[38;5;28mself\u001b[39m, X):\n\u001b[1;32m    399\u001b[0m     \u001b[38;5;124;03m\"\"\"Perform regression on samples in X.\u001b[39;00m\n\u001b[1;32m    400\u001b[0m \n\u001b[1;32m    401\u001b[0m \u001b[38;5;124;03m    For an one-class model, +1 (inlier) or -1 (outlier) is returned.\u001b[39;00m\n\u001b[0;32m   (...)\u001b[0m\n\u001b[1;32m    412\u001b[0m \u001b[38;5;124;03m        The predicted values.\u001b[39;00m\n\u001b[1;32m    413\u001b[0m \u001b[38;5;124;03m    \"\"\"\u001b[39;00m\n\u001b[0;32m--> 414\u001b[0m     X \u001b[38;5;241m=\u001b[39m \u001b[38;5;28;43mself\u001b[39;49m\u001b[38;5;241;43m.\u001b[39;49m\u001b[43m_validate_for_predict\u001b[49m\u001b[43m(\u001b[49m\u001b[43mX\u001b[49m\u001b[43m)\u001b[49m\n\u001b[1;32m    415\u001b[0m     predict \u001b[38;5;241m=\u001b[39m \u001b[38;5;28mself\u001b[39m\u001b[38;5;241m.\u001b[39m_sparse_predict \u001b[38;5;28;01mif\u001b[39;00m \u001b[38;5;28mself\u001b[39m\u001b[38;5;241m.\u001b[39m_sparse \u001b[38;5;28;01melse\u001b[39;00m \u001b[38;5;28mself\u001b[39m\u001b[38;5;241m.\u001b[39m_dense_predict\n\u001b[1;32m    416\u001b[0m     \u001b[38;5;28;01mreturn\u001b[39;00m predict(X)\n",
      "File \u001b[0;32m~/opt/anaconda3/lib/python3.9/site-packages/sklearn/svm/_base.py:592\u001b[0m, in \u001b[0;36mBaseLibSVM._validate_for_predict\u001b[0;34m(self, X)\u001b[0m\n\u001b[1;32m    589\u001b[0m check_is_fitted(\u001b[38;5;28mself\u001b[39m)\n\u001b[1;32m    591\u001b[0m \u001b[38;5;28;01mif\u001b[39;00m \u001b[38;5;129;01mnot\u001b[39;00m callable(\u001b[38;5;28mself\u001b[39m\u001b[38;5;241m.\u001b[39mkernel):\n\u001b[0;32m--> 592\u001b[0m     X \u001b[38;5;241m=\u001b[39m \u001b[38;5;28;43mself\u001b[39;49m\u001b[38;5;241;43m.\u001b[39;49m\u001b[43m_validate_data\u001b[49m\u001b[43m(\u001b[49m\n\u001b[1;32m    593\u001b[0m \u001b[43m        \u001b[49m\u001b[43mX\u001b[49m\u001b[43m,\u001b[49m\n\u001b[1;32m    594\u001b[0m \u001b[43m        \u001b[49m\u001b[43maccept_sparse\u001b[49m\u001b[38;5;241;43m=\u001b[39;49m\u001b[38;5;124;43m\"\u001b[39;49m\u001b[38;5;124;43mcsr\u001b[39;49m\u001b[38;5;124;43m\"\u001b[39;49m\u001b[43m,\u001b[49m\n\u001b[1;32m    595\u001b[0m \u001b[43m        \u001b[49m\u001b[43mdtype\u001b[49m\u001b[38;5;241;43m=\u001b[39;49m\u001b[43mnp\u001b[49m\u001b[38;5;241;43m.\u001b[39;49m\u001b[43mfloat64\u001b[49m\u001b[43m,\u001b[49m\n\u001b[1;32m    596\u001b[0m \u001b[43m        \u001b[49m\u001b[43morder\u001b[49m\u001b[38;5;241;43m=\u001b[39;49m\u001b[38;5;124;43m\"\u001b[39;49m\u001b[38;5;124;43mC\u001b[39;49m\u001b[38;5;124;43m\"\u001b[39;49m\u001b[43m,\u001b[49m\n\u001b[1;32m    597\u001b[0m \u001b[43m        \u001b[49m\u001b[43maccept_large_sparse\u001b[49m\u001b[38;5;241;43m=\u001b[39;49m\u001b[38;5;28;43;01mFalse\u001b[39;49;00m\u001b[43m,\u001b[49m\n\u001b[1;32m    598\u001b[0m \u001b[43m        \u001b[49m\u001b[43mreset\u001b[49m\u001b[38;5;241;43m=\u001b[39;49m\u001b[38;5;28;43;01mFalse\u001b[39;49;00m\u001b[43m,\u001b[49m\n\u001b[1;32m    599\u001b[0m \u001b[43m    \u001b[49m\u001b[43m)\u001b[49m\n\u001b[1;32m    601\u001b[0m \u001b[38;5;28;01mif\u001b[39;00m \u001b[38;5;28mself\u001b[39m\u001b[38;5;241m.\u001b[39m_sparse \u001b[38;5;129;01mand\u001b[39;00m \u001b[38;5;129;01mnot\u001b[39;00m sp\u001b[38;5;241m.\u001b[39misspmatrix(X):\n\u001b[1;32m    602\u001b[0m     X \u001b[38;5;241m=\u001b[39m sp\u001b[38;5;241m.\u001b[39mcsr_matrix(X)\n",
      "File \u001b[0;32m~/opt/anaconda3/lib/python3.9/site-packages/sklearn/base.py:585\u001b[0m, in \u001b[0;36mBaseEstimator._validate_data\u001b[0;34m(self, X, y, reset, validate_separately, **check_params)\u001b[0m\n\u001b[1;32m    582\u001b[0m     out \u001b[38;5;241m=\u001b[39m X, y\n\u001b[1;32m    584\u001b[0m \u001b[38;5;28;01mif\u001b[39;00m \u001b[38;5;129;01mnot\u001b[39;00m no_val_X \u001b[38;5;129;01mand\u001b[39;00m check_params\u001b[38;5;241m.\u001b[39mget(\u001b[38;5;124m\"\u001b[39m\u001b[38;5;124mensure_2d\u001b[39m\u001b[38;5;124m\"\u001b[39m, \u001b[38;5;28;01mTrue\u001b[39;00m):\n\u001b[0;32m--> 585\u001b[0m     \u001b[38;5;28;43mself\u001b[39;49m\u001b[38;5;241;43m.\u001b[39;49m\u001b[43m_check_n_features\u001b[49m\u001b[43m(\u001b[49m\u001b[43mX\u001b[49m\u001b[43m,\u001b[49m\u001b[43m \u001b[49m\u001b[43mreset\u001b[49m\u001b[38;5;241;43m=\u001b[39;49m\u001b[43mreset\u001b[49m\u001b[43m)\u001b[49m\n\u001b[1;32m    587\u001b[0m \u001b[38;5;28;01mreturn\u001b[39;00m out\n",
      "File \u001b[0;32m~/opt/anaconda3/lib/python3.9/site-packages/sklearn/base.py:400\u001b[0m, in \u001b[0;36mBaseEstimator._check_n_features\u001b[0;34m(self, X, reset)\u001b[0m\n\u001b[1;32m    397\u001b[0m     \u001b[38;5;28;01mreturn\u001b[39;00m\n\u001b[1;32m    399\u001b[0m \u001b[38;5;28;01mif\u001b[39;00m n_features \u001b[38;5;241m!=\u001b[39m \u001b[38;5;28mself\u001b[39m\u001b[38;5;241m.\u001b[39mn_features_in_:\n\u001b[0;32m--> 400\u001b[0m     \u001b[38;5;28;01mraise\u001b[39;00m \u001b[38;5;167;01mValueError\u001b[39;00m(\n\u001b[1;32m    401\u001b[0m         \u001b[38;5;124mf\u001b[39m\u001b[38;5;124m\"\u001b[39m\u001b[38;5;124mX has \u001b[39m\u001b[38;5;132;01m{\u001b[39;00mn_features\u001b[38;5;132;01m}\u001b[39;00m\u001b[38;5;124m features, but \u001b[39m\u001b[38;5;132;01m{\u001b[39;00m\u001b[38;5;28mself\u001b[39m\u001b[38;5;241m.\u001b[39m\u001b[38;5;18m__class__\u001b[39m\u001b[38;5;241m.\u001b[39m\u001b[38;5;18m__name__\u001b[39m\u001b[38;5;132;01m}\u001b[39;00m\u001b[38;5;124m \u001b[39m\u001b[38;5;124m\"\u001b[39m\n\u001b[1;32m    402\u001b[0m         \u001b[38;5;124mf\u001b[39m\u001b[38;5;124m\"\u001b[39m\u001b[38;5;124mis expecting \u001b[39m\u001b[38;5;132;01m{\u001b[39;00m\u001b[38;5;28mself\u001b[39m\u001b[38;5;241m.\u001b[39mn_features_in_\u001b[38;5;132;01m}\u001b[39;00m\u001b[38;5;124m features as input.\u001b[39m\u001b[38;5;124m\"\u001b[39m\n\u001b[1;32m    403\u001b[0m     )\n",
      "\u001b[0;31mValueError\u001b[0m: X has 2179 features, but SVC is expecting 84 features as input."
     ]
    }
   ],
   "source": [
    "X = index_vectorizer.transform(df['text'].tolist())\n",
    "X = tfidf_vectorizer.transform(X)\n",
    "df['product_status'] = pd.Series(svm.predict(X))\n",
    "df['product_status']"
   ]
  },
  {
   "cell_type": "code",
   "execution_count": 160,
   "metadata": {},
   "outputs": [],
   "source": [
    "#randomforest\n",
    "from sklearn.model_selection import train_test_split\n",
    "from sklearn.metrics import mean_squared_error, r2_score\n",
    "df = df[['price', 'factory_price', 'maker', 'price_index', 'create_unixtime', 'create_time_score',\n",
    "        'phone_model_storage', 'phone_model_name']]\n",
    "df = pd.get_dummies(df, columns=['maker', 'phone_model_storage', 'phone_model_name'])\n"
   ]
  },
  {
   "cell_type": "code",
   "execution_count": 140,
   "metadata": {},
   "outputs": [
    {
     "data": {
      "text/html": [
       "<div>\n",
       "<style scoped>\n",
       "    .dataframe tbody tr th:only-of-type {\n",
       "        vertical-align: middle;\n",
       "    }\n",
       "\n",
       "    .dataframe tbody tr th {\n",
       "        vertical-align: top;\n",
       "    }\n",
       "\n",
       "    .dataframe thead th {\n",
       "        text-align: right;\n",
       "    }\n",
       "</style>\n",
       "<table border=\"1\" class=\"dataframe\">\n",
       "  <thead>\n",
       "    <tr style=\"text-align: right;\">\n",
       "      <th></th>\n",
       "      <th>price</th>\n",
       "      <th>factory_price</th>\n",
       "      <th>price_index</th>\n",
       "      <th>create_unixtime</th>\n",
       "      <th>create_time_score</th>\n",
       "      <th>phone_model</th>\n",
       "      <th>maker_apple</th>\n",
       "      <th>maker_huawei</th>\n",
       "      <th>maker_lg</th>\n",
       "      <th>maker_pantech</th>\n",
       "      <th>...</th>\n",
       "      <th>phone_model_name_lg g5</th>\n",
       "      <th>phone_model_name_lg u</th>\n",
       "      <th>phone_model_name_luna</th>\n",
       "      <th>phone_model_name_nexus 5x</th>\n",
       "      <th>phone_model_name_optimus g</th>\n",
       "      <th>phone_model_name_vega iron2</th>\n",
       "      <th>phone_model_name_vega secret up</th>\n",
       "      <th>phone_model_name_wine smart jazz</th>\n",
       "      <th>phone_model_name_xperia z3</th>\n",
       "      <th>phone_model_name_y6</th>\n",
       "    </tr>\n",
       "  </thead>\n",
       "  <tbody>\n",
       "    <tr>\n",
       "      <th>0</th>\n",
       "      <td>550000.0</td>\n",
       "      <td>924000</td>\n",
       "      <td>95.96</td>\n",
       "      <td>1.489849e+09</td>\n",
       "      <td>0.985612</td>\n",
       "      <td>iphone 6 64gb</td>\n",
       "      <td>1</td>\n",
       "      <td>0</td>\n",
       "      <td>0</td>\n",
       "      <td>0</td>\n",
       "      <td>...</td>\n",
       "      <td>0</td>\n",
       "      <td>0</td>\n",
       "      <td>0</td>\n",
       "      <td>0</td>\n",
       "      <td>0</td>\n",
       "      <td>0</td>\n",
       "      <td>0</td>\n",
       "      <td>0</td>\n",
       "      <td>0</td>\n",
       "      <td>0</td>\n",
       "    </tr>\n",
       "    <tr>\n",
       "      <th>1</th>\n",
       "      <td>380000.0</td>\n",
       "      <td>979000</td>\n",
       "      <td>103.05</td>\n",
       "      <td>1.477408e+09</td>\n",
       "      <td>0.640288</td>\n",
       "      <td>galaxy s6 edge 32gb</td>\n",
       "      <td>0</td>\n",
       "      <td>0</td>\n",
       "      <td>0</td>\n",
       "      <td>0</td>\n",
       "      <td>...</td>\n",
       "      <td>0</td>\n",
       "      <td>0</td>\n",
       "      <td>0</td>\n",
       "      <td>0</td>\n",
       "      <td>0</td>\n",
       "      <td>0</td>\n",
       "      <td>0</td>\n",
       "      <td>0</td>\n",
       "      <td>0</td>\n",
       "      <td>0</td>\n",
       "    </tr>\n",
       "    <tr>\n",
       "      <th>2</th>\n",
       "      <td>300000.0</td>\n",
       "      <td>854000</td>\n",
       "      <td>103.05</td>\n",
       "      <td>1.477321e+09</td>\n",
       "      <td>0.637890</td>\n",
       "      <td>galaxy s6 32gb</td>\n",
       "      <td>0</td>\n",
       "      <td>0</td>\n",
       "      <td>0</td>\n",
       "      <td>0</td>\n",
       "      <td>...</td>\n",
       "      <td>0</td>\n",
       "      <td>0</td>\n",
       "      <td>0</td>\n",
       "      <td>0</td>\n",
       "      <td>0</td>\n",
       "      <td>0</td>\n",
       "      <td>0</td>\n",
       "      <td>0</td>\n",
       "      <td>0</td>\n",
       "      <td>0</td>\n",
       "    </tr>\n",
       "    <tr>\n",
       "      <th>3</th>\n",
       "      <td>290000.0</td>\n",
       "      <td>836000</td>\n",
       "      <td>95.96</td>\n",
       "      <td>1.490195e+09</td>\n",
       "      <td>0.995204</td>\n",
       "      <td>lg g5 32gb</td>\n",
       "      <td>0</td>\n",
       "      <td>0</td>\n",
       "      <td>1</td>\n",
       "      <td>0</td>\n",
       "      <td>...</td>\n",
       "      <td>1</td>\n",
       "      <td>0</td>\n",
       "      <td>0</td>\n",
       "      <td>0</td>\n",
       "      <td>0</td>\n",
       "      <td>0</td>\n",
       "      <td>0</td>\n",
       "      <td>0</td>\n",
       "      <td>0</td>\n",
       "      <td>0</td>\n",
       "    </tr>\n",
       "    <tr>\n",
       "      <th>4</th>\n",
       "      <td>280000.0</td>\n",
       "      <td>396000</td>\n",
       "      <td>102.59</td>\n",
       "      <td>1.460300e+09</td>\n",
       "      <td>0.165468</td>\n",
       "      <td>lg u 32gb</td>\n",
       "      <td>0</td>\n",
       "      <td>0</td>\n",
       "      <td>1</td>\n",
       "      <td>0</td>\n",
       "      <td>...</td>\n",
       "      <td>0</td>\n",
       "      <td>1</td>\n",
       "      <td>0</td>\n",
       "      <td>0</td>\n",
       "      <td>0</td>\n",
       "      <td>0</td>\n",
       "      <td>0</td>\n",
       "      <td>0</td>\n",
       "      <td>0</td>\n",
       "      <td>0</td>\n",
       "    </tr>\n",
       "  </tbody>\n",
       "</table>\n",
       "<p>5 rows × 64 columns</p>\n",
       "</div>"
      ],
      "text/plain": [
       "      price  factory_price  price_index  create_unixtime  create_time_score  \\\n",
       "0  550000.0         924000        95.96     1.489849e+09           0.985612   \n",
       "1  380000.0         979000       103.05     1.477408e+09           0.640288   \n",
       "2  300000.0         854000       103.05     1.477321e+09           0.637890   \n",
       "3  290000.0         836000        95.96     1.490195e+09           0.995204   \n",
       "4  280000.0         396000       102.59     1.460300e+09           0.165468   \n",
       "\n",
       "           phone_model  maker_apple  maker_huawei  maker_lg  maker_pantech  \\\n",
       "0        iphone 6 64gb            1             0         0              0   \n",
       "1  galaxy s6 edge 32gb            0             0         0              0   \n",
       "2       galaxy s6 32gb            0             0         0              0   \n",
       "3           lg g5 32gb            0             0         1              0   \n",
       "4            lg u 32gb            0             0         1              0   \n",
       "\n",
       "   ...  phone_model_name_lg g5  phone_model_name_lg u  phone_model_name_luna  \\\n",
       "0  ...                       0                      0                      0   \n",
       "1  ...                       0                      0                      0   \n",
       "2  ...                       0                      0                      0   \n",
       "3  ...                       1                      0                      0   \n",
       "4  ...                       0                      1                      0   \n",
       "\n",
       "   phone_model_name_nexus 5x  phone_model_name_optimus g  \\\n",
       "0                          0                           0   \n",
       "1                          0                           0   \n",
       "2                          0                           0   \n",
       "3                          0                           0   \n",
       "4                          0                           0   \n",
       "\n",
       "   phone_model_name_vega iron2  phone_model_name_vega secret up  \\\n",
       "0                            0                                0   \n",
       "1                            0                                0   \n",
       "2                            0                                0   \n",
       "3                            0                                0   \n",
       "4                            0                                0   \n",
       "\n",
       "   phone_model_name_wine smart jazz  phone_model_name_xperia z3  \\\n",
       "0                                 0                           0   \n",
       "1                                 0                           0   \n",
       "2                                 0                           0   \n",
       "3                                 0                           0   \n",
       "4                                 0                           0   \n",
       "\n",
       "   phone_model_name_y6  \n",
       "0                    0  \n",
       "1                    0  \n",
       "2                    0  \n",
       "3                    0  \n",
       "4                    0  \n",
       "\n",
       "[5 rows x 64 columns]"
      ]
     },
     "execution_count": 140,
     "metadata": {},
     "output_type": "execute_result"
    }
   ],
   "source": [
    "df.head()"
   ]
  },
  {
   "cell_type": "code",
   "execution_count": 161,
   "metadata": {},
   "outputs": [
    {
     "name": "stderr",
     "output_type": "stream",
     "text": [
      "/Users/hanjihun/opt/anaconda3/lib/python3.9/site-packages/sklearn/ensemble/_forest.py:396: FutureWarning: Criterion 'mse' was deprecated in v1.0 and will be removed in version 1.2. Use `criterion='squared_error'` which is equivalent.\n",
      "  warn(\n"
     ]
    },
    {
     "name": "stdout",
     "output_type": "stream",
     "text": [
      "mean squared error of train data is 7057914438.217\n",
      "mean squared error of test data is 14769682875.543\n",
      "r2 score of train is 0.854\n",
      "r2 score of test is 0.662\n"
     ]
    }
   ],
   "source": [
    "x = df.loc[:, df.columns != 'price']\n",
    "y = df['price']\n",
    "x_train, x_test, y_train, y_test = train_test_split(x,y, test_size=0.3, random_state=0)\n",
    "random_forest = RandomForestRegressor(n_estimators=1000, criterion='mse')   #criterion = 기준\n",
    "random_forest.fit(x_train, y_train)\n",
    "\n",
    "#회귀모델 평가인 mse, r2_score\n",
    "y_train_pred = random_forest.predict(x_train)\n",
    "y_test_pred = random_forest.predict(x_test)\n",
    "print('mean squared error of train data is %.3f' % mean_squared_error(y_train, y_train_pred))\n",
    "print('mean squared error of test data is %.3f' % mean_squared_error(y_test, y_test_pred))\n",
    "\n",
    "print('r2 score of train is %.3f' % r2_score(y_train, y_train_pred))\n",
    "print('r2 score of test is %.3f' % r2_score(y_test, y_test_pred))"
   ]
  },
  {
   "cell_type": "code",
   "execution_count": 162,
   "metadata": {},
   "outputs": [
    {
     "data": {
      "text/plain": [
       "<matplotlib.collections.PathCollection at 0x7fd1d0465fa0>"
      ]
     },
     "execution_count": 162,
     "metadata": {},
     "output_type": "execute_result"
    },
    {
     "data": {
      "image/png": "[encoded data removed]",
      "text/plain": [
       "<Figure size 432x288 with 1 Axes>"
      ]
     },
     "metadata": {
      "needs_background": "light"
     },
     "output_type": "display_data"
    }
   ],
   "source": [
    "plt.scatter(y_test, y_test_pred)"
   ]
  },
  {
   "cell_type": "markdown",
   "metadata": {},
   "source": [
    "각 모델의 경우 파라미터에 따라 예측성능이 달라진다 \n",
    "\n",
    "RandomForest같은 경우에는 n_estimatiors(나뭇가지 수), max_depth와 같은 파라미터 설정이 중요하다.\n",
    "\n",
    "> 이런 최적의 파라미터를 찾는 방법 중 하나는 Greedy Randomized Serach이다."
   ]
  },
  {
   "cell_type": "code",
   "execution_count": 165,
   "metadata": {},
   "outputs": [
    {
     "name": "stdout",
     "output_type": "stream",
     "text": [
      "Fitting 3 folds for each of 100 candidates, totalling 300 fits\n",
      "[CV] END bootstrap=True, max_depth=40, max_features=sqrt, n_estimators=800; total time=   3.2s\n",
      "[CV] END bootstrap=True, max_depth=40, max_features=sqrt, n_estimators=800; total time=   3.5s\n",
      "[CV] END bootstrap=True, max_depth=40, max_features=sqrt, n_estimators=800; total time=   3.7s\n",
      "[CV] END bootstrap=False, max_depth=80, max_features=sqrt, n_estimators=1000; total time=   4.6s\n",
      "[CV] END bootstrap=False, max_depth=90, max_features=sqrt, n_estimators=1000; total time=   4.9s\n",
      "[CV] END bootstrap=False, max_depth=90, max_features=sqrt, n_estimators=1000; total time=   5.2s\n",
      "[CV] END bootstrap=False, max_depth=80, max_features=sqrt, n_estimators=1000; total time=   5.3s\n",
      "[CV] END bootstrap=False, max_depth=90, max_features=sqrt, n_estimators=1000; total time=   5.5s\n",
      "[CV] END bootstrap=True, max_depth=90, max_features=sqrt, n_estimators=600; total time=   2.5s\n",
      "[CV] END bootstrap=False, max_depth=80, max_features=sqrt, n_estimators=1000; total time=   5.2s\n",
      "[CV] END bootstrap=False, max_depth=20, max_features=sqrt, n_estimators=1600; total time=   6.8s\n",
      "[CV] END bootstrap=True, max_depth=90, max_features=sqrt, n_estimators=600; total time=   2.4s\n",
      "[CV] END bootstrap=True, max_depth=90, max_features=sqrt, n_estimators=600; total time=   2.4s\n",
      "[CV] END bootstrap=False, max_depth=20, max_features=sqrt, n_estimators=1600; total time=   7.8s\n",
      "[CV] END bootstrap=False, max_depth=20, max_features=sqrt, n_estimators=1600; total time=   7.2s\n",
      "[CV] END bootstrap=False, max_depth=80, max_features=sqrt, n_estimators=2000; total time=   9.3s\n",
      "[CV] END bootstrap=False, max_depth=80, max_features=sqrt, n_estimators=2000; total time=  10.2s\n",
      "[CV] END bootstrap=False, max_depth=80, max_features=sqrt, n_estimators=2000; total time=  10.1s\n",
      "[CV] END bootstrap=False, max_depth=70, max_features=sqrt, n_estimators=1200; total time=   5.3s\n",
      "[CV] END bootstrap=False, max_depth=70, max_features=sqrt, n_estimators=1200; total time=   5.9s\n",
      "[CV] END bootstrap=False, max_depth=70, max_features=sqrt, n_estimators=1200; total time=   5.9s\n",
      "[CV] END bootstrap=True, max_depth=40, max_features=sqrt, n_estimators=1600; total time=   5.9s\n",
      "[CV] END bootstrap=True, max_depth=40, max_features=sqrt, n_estimators=1600; total time=   6.5s\n",
      "[CV] END bootstrap=True, max_depth=40, max_features=sqrt, n_estimators=1600; total time=   6.7s\n",
      "[CV] END bootstrap=False, max_depth=110, max_features=auto, n_estimators=600; total time=   8.2s\n",
      "[CV] END bootstrap=False, max_depth=110, max_features=auto, n_estimators=600; total time=   8.1s\n",
      "[CV] END bootstrap=False, max_depth=110, max_features=auto, n_estimators=600; total time=  10.0s\n"
     ]
    }
   ],
   "source": [
    "#Greddy Randomized Search로 최적의 Parameter 찾기\n",
    "from sklearn.model_selection import RandomizedSearchCV\n",
    "\n",
    "n_estimators = [int(x) for x in np.linspace(start = 200, stop = 2000, num = 10)]\n",
    "max_features = ['auto', 'sqrt']\n",
    "max_depth = [int(x) for x in np.linspace(10, 110, num = 11)]\n",
    "max_depth.append(None)\n",
    "bootstrap = [True, False]\n",
    "\n",
    "random_grid = {'n_estimators': n_estimators,\n",
    "               'max_features': max_features,\n",
    "               'max_depth': max_depth,\n",
    "               'bootstrap': bootstrap}\n",
    "forest = RandomForestRegressor()\n",
    "optimal_forest = RandomizedSearchCV(estimator = forest, \n",
    "                                    param_distributions = random_grid, \n",
    "                                    n_iter = 100, \n",
    "                                    cv = 3, \n",
    "                                    verbose=2,\n",
    "                                    random_state=42, \n",
    "                                    n_jobs = -1)\n",
    "\n",
    "# RandomizedSearchCV 모델을 학습\n",
    "X = df.loc[:, df.columns != 'price']\n",
    "y = df['price']\n",
    "optimal_forest.fit(X, y)\n"
   ]
  },
  {
   "cell_type": "code",
   "execution_count": null,
   "metadata": {},
   "outputs": [],
   "source": []
  }
 ],
 "metadata": {
  "interpreter": {
   "hash": "eadcffed9d3c2393aa2c1e8af4faa14582bec2e5add70b0d0fc7cd41b2774778"
  },
  "kernelspec": {
   "display_name": "Python 3.9.12 64-bit ('base': conda)",
   "language": "python",
   "name": "python3"
  },
  "language_info": {
   "codemirror_mode": {
    "name": "ipython",
    "version": 3
   },
   "file_extension": ".py",
   "mimetype": "text/x-python",
   "name": "python",
   "nbconvert_exporter": "python",
   "pygments_lexer": "ipython3",
   "version": "3.9.12"
  },
  "orig_nbformat": 4
 },
 "nbformat": 4,
 "nbformat_minor": 2
}
